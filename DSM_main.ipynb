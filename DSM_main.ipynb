{
  "nbformat": 4,
  "nbformat_minor": 0,
  "metadata": {
    "colab": {
      "provenance": [],
      "toc_visible": true,
      "mount_file_id": "1NrmF8QwBT_SDKzyz_IHat8FiVAAws8nM",
      "authorship_tag": "ABX9TyNIowwh7QHO0N/AJ3qlHJOv",
      "include_colab_link": true
    },
    "kernelspec": {
      "name": "python3",
      "display_name": "Python 3"
    },
    "language_info": {
      "name": "python"
    }
  },
  "cells": [
    {
      "cell_type": "markdown",
      "metadata": {
        "id": "view-in-github",
        "colab_type": "text"
      },
      "source": [
        "<a href=\"https://colab.research.google.com/github/kapibara3chi/Make_Design_Structure_Matrix/blob/main/DSM_main.ipynb\" target=\"_parent\"><img src=\"https://colab.research.google.com/assets/colab-badge.svg\" alt=\"Open In Colab\"/></a>"
      ]
    },
    {
      "cell_type": "code",
      "execution_count": null,
      "metadata": {
        "id": "h3Q5KdNbQfxt"
      },
      "outputs": [],
      "source": [
        "!pip install streamlit\n",
        "# !pip install pyngrok"
      ]
    },
    {
      "cell_type": "code",
      "source": [
        "# from google.colab import drive\n",
        "# drive.mount('/content/drive')"
      ],
      "metadata": {
        "id": "4d4eQ-SJu3dP"
      },
      "execution_count": 1,
      "outputs": []
    },
    {
      "cell_type": "code",
      "source": [
        "# from pyngrok import ngrok\n",
        "\n",
        "# public_url = ngrok.connect(port='80')\n",
        "# print(public_url)\n",
        "# print(\"****\")"
      ],
      "metadata": {
        "id": "TeZ3dU9cILnV"
      },
      "execution_count": 3,
      "outputs": []
    },
    {
      "cell_type": "code",
      "source": [
        "# %%writefile /content/drive/MyDrive/DSM/my_module.py\n",
        "import seaborn as sns\n",
        "import matplotlib.pyplot as plt\n",
        "import numpy as np\n",
        "def make_dsm_by_sns():\n",
        "  B = np.array([[0, 1, 0, 0, 0, 1, 0],\n",
        "                [0, 0, 0, 1, 0, 0, 0],\n",
        "                [1, 0, 0, 0, 0, 0, 1],\n",
        "                [0, 0, 0, 0, 1, 0, 0],\n",
        "                [0, 1, 0, 0, 0, 1, 0],\n",
        "                [0, 0, 1, 0, 0, 0, 0],\n",
        "                [1, 0, 0, 0, 1, 0, 0]])\n",
        "  \n",
        "  xvalues = [\"ElementA\", \"ElementB\", \"ElementC\", \"ElementD\", \"ElementE\", \"ElementF\", \"ElementG\"]\n",
        "  yvalues = [\"ElementA\", \"ElementB\", \"ElementC\", \"ElementD\", \"ElementE\", \"ElementF\", \"ElementG\"]\n",
        "  \n",
        "  sns.heatmap(B, annot=True, cbar=False, square=True, cmap=\"Blues\", linewidths=0.5, linecolor=\"grey\",\n",
        "              xticklabels=xvalues, yticklabels=yvalues)\n",
        "  \n",
        "  plt.savefig(\"DSMtest.png\", bbox_inches=\"tight\")\n",
        "\n",
        "def make_dsm_by_plotly():\n",
        "  import plotly.graph_objs as go\n",
        "  import numpy as np\n",
        "  \n",
        "  # データの定義\n",
        "  B = np.array([[0, 1, 0, 0, 0, 1, 0],\n",
        "                [0, 0, 0, 1, 0, 0, 0],\n",
        "                [1, 0, 0, 0, 0, 0, 1],\n",
        "                [0, 0, 0, 0, 1, 0, 0],\n",
        "                [0, 1, 0, 0, 0, 1, 0],\n",
        "                [0, 0, 1, 0, 0, 0, 0],\n",
        "                [1, 0, 0, 0, 1, 0, 0]])\n",
        "  \n",
        "  xvalues = [\"ElementA\", \"ElementB\", \"ElementC\", \"ElementD\", \"ElementE\", \"ElementF\", \"ElementG\"]\n",
        "  yvalues = [\"ElementA\", \"ElementB\", \"ElementC\", \"ElementD\", \"ElementE\", \"ElementF\", \"ElementG\"]\n",
        "  \n",
        "  # Plotlyのheatmap traceを作成\n",
        "  heatmap = go.Heatmap(z=B, x=xvalues, y=yvalues, colorscale='Blues', showscale=True, \n",
        "                      text=B, hoverinfo='skip', \n",
        "                      xgap=1, ygap=1, zmin=0, zmax=1)\n",
        "  \n",
        "  # Plotlyのfigureオブジェクトを作成\n",
        "  fig = go.Figure(data=[heatmap])\n",
        "  \n",
        "  # レイアウトの調整\n",
        "  fig.update_layout(width=600, height=600, xaxis_showgrid=True, yaxis_showgrid=True, \n",
        "                    yaxis_autorange='reversed', title='DSMtest')\n",
        "  \n",
        "  # ヒートマップの各セルに値を表示する\n",
        "  for i in range(len(yvalues)):\n",
        "      for j in range(len(xvalues)):\n",
        "          fig.add_annotation(x=xvalues[j], y=yvalues[i], text=str(B[i][j]), showarrow=False)\n",
        "  \n",
        "  # プロットの表示\n",
        "  fig.show()\n",
        "\n",
        "if __name__ == '__main__':\n",
        "   make_dsm_by_sns()"
      ],
      "metadata": {
        "colab": {
          "base_uri": "https://localhost:8080/",
          "height": 304
        },
        "id": "BPaqZfeRRd3Z",
        "outputId": "d81cfa94-6073-4ca1-cc3d-aca3fdff62e0"
      },
      "execution_count": 5,
      "outputs": [
        {
          "output_type": "display_data",
          "data": {
            "text/plain": [
              "<Figure size 432x288 with 1 Axes>"
            ],
            "image/png": "[encoded data removed]"
          },
          "metadata": {
            "needs_background": "light"
          }
        }
      ]
    },
    {
      "cell_type": "code",
      "source": [
        "# !streamlit run --server.port 80 /content/drive/MyDrive/DSM/my_script.py >/dev/null &"
      ],
      "metadata": {
        "id": "PKtBGaowIUUc"
      },
      "execution_count": 4,
      "outputs": []
    },
    {
      "cell_type": "code",
      "source": [
        "%%writefile /content/drive/MyDrive/DSM/app.py\n",
        "import sys\n",
        "sys.path.append('/content/drive/MyDrive/DSM')\n",
        "import streamlit as st\n",
        "import my_module\n",
        "txt=my_module.test()\n",
        "st.title(txt)\n",
        "\n",
        "# simple_streamlit_app.py\n",
        "\n",
        "import numpy as np\n",
        "import pandas as pd\n",
        "import streamlit as st\n",
        "df = pd.DataFrame( np.random.randn(10, 4), columns=['a2', 'b2', 'c','d'] )\n",
        "st.title(\"Simple Streamlit App\")\n",
        " \n",
        "st.dataframe(df) \n",
        "st.write(\"📈　Line-Chart\")\n",
        "st.line_chart(df)\n",
        " \n",
        "if st.checkbox('👓 Show DataFrame (with highlight_max)'):\n",
        " st.table(df.style.highlight_max(axis=0))\n"
      ],
      "metadata": {
        "colab": {
          "base_uri": "https://localhost:8080/"
        },
        "id": "R7CTa1gbaQQb",
        "outputId": "26c5286b-e773-4cbe-c7c4-253df835630c"
      },
      "execution_count": 14,
      "outputs": [
        {
          "output_type": "stream",
          "name": "stdout",
          "text": [
            "Overwriting /content/drive/MyDrive/DSM/app.py\n"
          ]
        }
      ]
    },
    {
      "cell_type": "code",
      "source": [
        "# from google.colab import files\n",
        "# files.view(\"/content/drive/MyDrive\")\n",
        "# files.view(\"my_script.py\")"
      ],
      "metadata": {
        "id": "mulfyKI_Qqpx"
      },
      "execution_count": null,
      "outputs": []
    },
    {
      "cell_type": "code",
      "source": [
        "# !streamlit run /content/drive/MyDrive/DSM/my_script.py & sleep 3 && npx localtunnel --port 8501\n",
        "!streamlit run /content/drive/MyDrive/DSM/app.py & sleep 3 && npx localtunnel --port 8501"
      ],
      "metadata": {
        "id": "JXg7CUxnSevQ",
        "colab": {
          "base_uri": "https://localhost:8080/"
        },
        "outputId": "ac5765cc-660f-4a27-b541-237598d882f4"
      },
      "execution_count": 15,
      "outputs": [
        {
          "output_type": "stream",
          "name": "stdout",
          "text": [
            "\n",
            "Collecting usage statistics. To deactivate, set browser.gatherUsageStats to False.\n",
            "\u001b[0m\n",
            "\u001b[0m\n",
            "\u001b[34m\u001b[1m  You can now view your Streamlit app in your browser.\u001b[0m\n",
            "\u001b[0m\n",
            "\u001b[34m  Network URL: \u001b[0m\u001b[1mhttp://172.28.0.12:8501\u001b[0m\n",
            "\u001b[34m  External URL: \u001b[0m\u001b[1mhttp://34.172.69.88:8501\u001b[0m\n",
            "\u001b[0m\n",
            "\u001b[K\u001b[?25hnpx: installed 22 in 2.286s\n",
            "your url is: https://young-towns-lie-34-172-69-88.loca.lt\n",
            "\u001b[34m  Stopping...\u001b[0m\n",
            "^C\n"
          ]
        }
      ]
    }
  ]
}