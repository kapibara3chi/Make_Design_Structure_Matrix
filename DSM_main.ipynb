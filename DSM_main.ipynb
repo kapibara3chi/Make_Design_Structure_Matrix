{
  "nbformat": 4,
  "nbformat_minor": 0,
  "metadata": {
    "colab": {
      "provenance": [],
      "toc_visible": true,
      "mount_file_id": "1NrmF8QwBT_SDKzyz_IHat8FiVAAws8nM",
      "authorship_tag": "ABX9TyPKQtfCQ7e9v/lkUmsrcl5K",
      "include_colab_link": true
    },
    "kernelspec": {
      "name": "python3",
      "display_name": "Python 3"
    },
    "language_info": {
      "name": "python"
    }
  },
  "cells": [
    {
      "cell_type": "markdown",
      "metadata": {
        "id": "view-in-github",
        "colab_type": "text"
      },
      "source": [
        "<a href=\"https://colab.research.google.com/github/kapibara3chi/Make_Design_Structure_Matrix/blob/main/DSM_main.ipynb\" target=\"_parent\"><img src=\"https://colab.research.google.com/assets/colab-badge.svg\" alt=\"Open In Colab\"/></a>"
      ]
    },
    {
      "cell_type": "code",
      "execution_count": null,
      "metadata": {
        "id": "h3Q5KdNbQfxt"
      },
      "outputs": [],
      "source": [
        "!pip install streamlit\n",
        "# !pip install pyngrok"
      ]
    },
    {
      "cell_type": "code",
      "source": [
        "# from google.colab import drive\n",
        "# drive.mount('/content/drive')"
      ],
      "metadata": {
        "id": "4d4eQ-SJu3dP"
      },
      "execution_count": 1,
      "outputs": []
    },
    {
      "cell_type": "code",
      "source": [
        "# from pyngrok import ngrok\n",
        "\n",
        "# public_url = ngrok.connect(port='80')\n",
        "# print(public_url)\n",
        "# print(\"****\")"
      ],
      "metadata": {
        "id": "TeZ3dU9cILnV"
      },
      "execution_count": 3,
      "outputs": []
    },
    {
      "cell_type": "code",
      "source": [
        "# %%writefile /content/drive/MyDrive/DSM/my_module.py\n",
        "def test():\n",
        "  txt=\"test\"\n",
        "  return txt\n",
        "# import seaborn as sns\n",
        "# import matplotlib.pyplot as plt\n",
        "# import numpy as np\n",
        "\n",
        "# B = np.array([[0, 1, 0, 0, 0, 1, 0],\n",
        "#               [0, 0, 0, 1, 0, 0, 0],\n",
        "#               [1, 0, 0, 0, 0, 0, 1],\n",
        "#               [0, 0, 0, 0, 1, 0, 0],\n",
        "#               [0, 1, 0, 0, 0, 1, 0],\n",
        "#               [0, 0, 1, 0, 0, 0, 0],\n",
        "#               [1, 0, 0, 0, 1, 0, 0]])\n",
        "\n",
        "# xvalues = [\"ElementA\", \"ElementB\", \"ElementC\", \"ElementD\", \"ElementE\", \"ElementF\", \"ElementG\"]\n",
        "# yvalues = [\"ElementA\", \"ElementB\", \"ElementC\", \"ElementD\", \"ElementE\", \"ElementF\", \"ElementG\"]\n",
        "\n",
        "# sns.heatmap(B, annot=True, cbar=False, square=True, cmap=\"Blues\", linewidths=0.5, linecolor=\"grey\",\n",
        "#             xticklabels=xvalues, yticklabels=yvalues)\n",
        "\n",
        "# plt.savefig(\"DSMtest.png\", bbox_inches=\"tight\")\n",
        "\n",
        "import plotly.graph_objs as go\n",
        "import numpy as np\n",
        "\n",
        "# データの定義\n",
        "B = np.array([[0, 1, 0, 0, 0, 1, 0],\n",
        "              [0, 0, 0, 1, 0, 0, 0],\n",
        "              [1, 0, 0, 0, 0, 0, 1],\n",
        "              [0, 0, 0, 0, 1, 0, 0],\n",
        "              [0, 1, 0, 0, 0, 1, 0],\n",
        "              [0, 0, 1, 0, 0, 0, 0],\n",
        "              [1, 0, 0, 0, 1, 0, 0]])\n",
        "\n",
        "xvalues = [\"ElementA\", \"ElementB\", \"ElementC\", \"ElementD\", \"ElementE\", \"ElementF\", \"ElementG\"]\n",
        "yvalues = [\"ElementA\", \"ElementB\", \"ElementC\", \"ElementD\", \"ElementE\", \"ElementF\", \"ElementG\"]\n",
        "\n",
        "# Plotlyのheatmap traceを作成\n",
        "heatmap = go.Heatmap(z=B, x=xvalues, y=yvalues, colorscale='Blues', showscale=True, \n",
        "                     text=B, hoverinfo='skip', \n",
        "                     xgap=1, ygap=1, zmin=0, zmax=1)\n",
        "\n",
        "# Plotlyのfigureオブジェクトを作成\n",
        "fig = go.Figure(data=[heatmap])\n",
        "\n",
        "# レイアウトの調整\n",
        "fig.update_layout(width=600, height=600, xaxis_showgrid=True, yaxis_showgrid=True, \n",
        "                  yaxis_autorange='reversed', title='DSMtest')\n",
        "\n",
        "# ヒートマップの各セルに値を表示する\n",
        "for i in range(len(yvalues)):\n",
        "    for j in range(len(xvalues)):\n",
        "        fig.add_annotation(x=xvalues[j], y=yvalues[i], text=str(B[i][j]), showarrow=False)\n",
        "\n",
        "# プロットの表示\n",
        "fig.show()\n"
      ],
      "metadata": {
        "colab": {
          "base_uri": "https://localhost:8080/",
          "height": 617
        },
        "id": "BPaqZfeRRd3Z",
        "outputId": "289594d9-3337-44fd-da40-4d79661c32e0"
      },
      "execution_count": 23,
      "outputs": [
        {
          "output_type": "display_data",
          "data": {
            "text/html": [
              "<html>\n",
              "<head><meta charset=\"utf-8\" /></head>\n",
              "<body>\n",
              "    <div>            <script src=\"https://cdnjs.cloudflare.com/ajax/libs/mathjax/2.7.5/MathJax.js?config=TeX-AMS-MML_SVG\"></script><script type=\"text/javascript\">if (window.MathJax && window.MathJax.Hub && window.MathJax.Hub.Config) {window.MathJax.Hub.Config({SVG: {font: \"STIX-Web\"}});}</script>                <script type=\"text/javascript\">window.PlotlyConfig = {MathJaxConfig: 'local'};</script>\n",
              "        <script src=\"https://cdn.plot.ly/plotly-2.18.2.min.js\"></script>                <div id=\"1e3e05c3-f8f1-49fa-b6ce-281b0ce633a5\" class=\"plotly-graph-div\" style=\"height:600px; width:600px;\"></div>            <script type=\"text/javascript\">                                    window.PLOTLYENV=window.PLOTLYENV || {};                                    if (document.getElementById(\"1e3e05c3-f8f1-49fa-b6ce-281b0ce633a5\")) {                    Plotly.newPlot(                        \"1e3e05c3-f8f1-49fa-b6ce-281b0ce633a5\",                        [{\"colorscale\":[[0.0,\"rgb(247,251,255)\"],[0.125,\"rgb(222,235,247)\"],[0.25,\"rgb(198,219,239)\"],[0.375,\"rgb(158,202,225)\"],[0.5,\"rgb(107,174,214)\"],[0.625,\"rgb(66,146,198)\"],[0.75,\"rgb(33,113,181)\"],[0.875,\"rgb(8,81,156)\"],[1.0,\"rgb(8,48,107)\"]],\"hoverinfo\":\"skip\",\"showscale\":true,\"text\":[[0,1,0,0,0,1,0],[0,0,0,1,0,0,0],[1,0,0,0,0,0,1],[0,0,0,0,1,0,0],[0,1,0,0,0,1,0],[0,0,1,0,0,0,0],[1,0,0,0,1,0,0]],\"x\":[\"ElementA\",\"ElementB\",\"ElementC\",\"ElementD\",\"ElementE\",\"ElementF\",\"ElementG\"],\"xgap\":1,\"y\":[\"ElementA\",\"ElementB\",\"ElementC\",\"ElementD\",\"ElementE\",\"ElementF\",\"ElementG\"],\"ygap\":1,\"z\":[[0,1,0,0,0,1,0],[0,0,0,1,0,0,0],[1,0,0,0,0,0,1],[0,0,0,0,1,0,0],[0,1,0,0,0,1,0],[0,0,1,0,0,0,0],[1,0,0,0,1,0,0]],\"zmax\":1,\"zmin\":0,\"type\":\"heatmap\"}],                        {\"template\":{\"data\":{\"candlestick\":[{\"decreasing\":{\"line\":{\"color\":\"#000033\"}},\"increasing\":{\"line\":{\"color\":\"#000032\"}},\"type\":\"candlestick\"}],\"contourcarpet\":[{\"colorscale\":[[0.0,\"#000011\"],[0.1111111111111111,\"#000012\"],[0.2222222222222222,\"#000013\"],[0.3333333333333333,\"#000014\"],[0.4444444444444444,\"#000015\"],[0.5555555555555556,\"#000016\"],[0.6666666666666666,\"#000017\"],[0.7777777777777778,\"#000018\"],[0.8888888888888888,\"#000019\"],[1.0,\"#000020\"]],\"type\":\"contourcarpet\"}],\"contour\":[{\"colorscale\":[[0.0,\"#000011\"],[0.1111111111111111,\"#000012\"],[0.2222222222222222,\"#000013\"],[0.3333333333333333,\"#000014\"],[0.4444444444444444,\"#000015\"],[0.5555555555555556,\"#000016\"],[0.6666666666666666,\"#000017\"],[0.7777777777777778,\"#000018\"],[0.8888888888888888,\"#000019\"],[1.0,\"#000020\"]],\"type\":\"contour\"}],\"heatmap\":[{\"colorscale\":[[0.0,\"#000011\"],[0.1111111111111111,\"#000012\"],[0.2222222222222222,\"#000013\"],[0.3333333333333333,\"#000014\"],[0.4444444444444444,\"#000015\"],[0.5555555555555556,\"#000016\"],[0.6666666666666666,\"#000017\"],[0.7777777777777778,\"#000018\"],[0.8888888888888888,\"#000019\"],[1.0,\"#000020\"]],\"type\":\"heatmap\"}],\"histogram2d\":[{\"colorscale\":[[0.0,\"#000011\"],[0.1111111111111111,\"#000012\"],[0.2222222222222222,\"#000013\"],[0.3333333333333333,\"#000014\"],[0.4444444444444444,\"#000015\"],[0.5555555555555556,\"#000016\"],[0.6666666666666666,\"#000017\"],[0.7777777777777778,\"#000018\"],[0.8888888888888888,\"#000019\"],[1.0,\"#000020\"]],\"type\":\"histogram2d\"}],\"icicle\":[{\"textfont\":{\"color\":\"white\"},\"type\":\"icicle\"}],\"sankey\":[{\"textfont\":{\"color\":\"#000036\"},\"type\":\"sankey\"}],\"scatter\":[{\"marker\":{\"line\":{\"width\":0}},\"type\":\"scatter\"}],\"table\":[{\"cells\":{\"fill\":{\"color\":\"#000038\"},\"font\":{\"color\":\"#000037\"},\"line\":{\"color\":\"#000039\"}},\"header\":{\"fill\":{\"color\":\"#000040\"},\"font\":{\"color\":\"#000036\"},\"line\":{\"color\":\"#000039\"}},\"type\":\"table\"}],\"waterfall\":[{\"connector\":{\"line\":{\"color\":\"#000036\",\"width\":2}},\"decreasing\":{\"marker\":{\"color\":\"#000033\"}},\"increasing\":{\"marker\":{\"color\":\"#000032\"}},\"totals\":{\"marker\":{\"color\":\"#000034\"}},\"type\":\"waterfall\"}]},\"layout\":{\"coloraxis\":{\"colorscale\":[[0.0,\"#000011\"],[0.1111111111111111,\"#000012\"],[0.2222222222222222,\"#000013\"],[0.3333333333333333,\"#000014\"],[0.4444444444444444,\"#000015\"],[0.5555555555555556,\"#000016\"],[0.6666666666666666,\"#000017\"],[0.7777777777777778,\"#000018\"],[0.8888888888888888,\"#000019\"],[1.0,\"#000020\"]]},\"colorscale\":{\"diverging\":[[0.0,\"#000021\"],[0.1,\"#000022\"],[0.2,\"#000023\"],[0.3,\"#000024\"],[0.4,\"#000025\"],[0.5,\"#000026\"],[0.6,\"#000027\"],[0.7,\"#000028\"],[0.8,\"#000029\"],[0.9,\"#000030\"],[1.0,\"#000031\"]],\"sequential\":[[0.0,\"#000011\"],[0.1111111111111111,\"#000012\"],[0.2222222222222222,\"#000013\"],[0.3333333333333333,\"#000014\"],[0.4444444444444444,\"#000015\"],[0.5555555555555556,\"#000016\"],[0.6666666666666666,\"#000017\"],[0.7777777777777778,\"#000018\"],[0.8888888888888888,\"#000019\"],[1.0,\"#000020\"]],\"sequentialminus\":[[0.0,\"#000011\"],[0.1111111111111111,\"#000012\"],[0.2222222222222222,\"#000013\"],[0.3333333333333333,\"#000014\"],[0.4444444444444444,\"#000015\"],[0.5555555555555556,\"#000016\"],[0.6666666666666666,\"#000017\"],[0.7777777777777778,\"#000018\"],[0.8888888888888888,\"#000019\"],[1.0,\"#000020\"]]},\"colorway\":[\"#000001\",\"#000002\",\"#000003\",\"#000004\",\"#000005\",\"#000006\",\"#000007\",\"#000008\",\"#000009\",\"#000010\"]}},\"xaxis\":{\"showgrid\":true},\"yaxis\":{\"showgrid\":true,\"autorange\":\"reversed\"},\"width\":600,\"height\":600,\"title\":{\"text\":\"DSMtest\"},\"annotations\":[{\"showarrow\":false,\"text\":\"0\",\"x\":\"ElementA\",\"y\":\"ElementA\"},{\"showarrow\":false,\"text\":\"1\",\"x\":\"ElementB\",\"y\":\"ElementA\"},{\"showarrow\":false,\"text\":\"0\",\"x\":\"ElementC\",\"y\":\"ElementA\"},{\"showarrow\":false,\"text\":\"0\",\"x\":\"ElementD\",\"y\":\"ElementA\"},{\"showarrow\":false,\"text\":\"0\",\"x\":\"ElementE\",\"y\":\"ElementA\"},{\"showarrow\":false,\"text\":\"1\",\"x\":\"ElementF\",\"y\":\"ElementA\"},{\"showarrow\":false,\"text\":\"0\",\"x\":\"ElementG\",\"y\":\"ElementA\"},{\"showarrow\":false,\"text\":\"0\",\"x\":\"ElementA\",\"y\":\"ElementB\"},{\"showarrow\":false,\"text\":\"0\",\"x\":\"ElementB\",\"y\":\"ElementB\"},{\"showarrow\":false,\"text\":\"0\",\"x\":\"ElementC\",\"y\":\"ElementB\"},{\"showarrow\":false,\"text\":\"1\",\"x\":\"ElementD\",\"y\":\"ElementB\"},{\"showarrow\":false,\"text\":\"0\",\"x\":\"ElementE\",\"y\":\"ElementB\"},{\"showarrow\":false,\"text\":\"0\",\"x\":\"ElementF\",\"y\":\"ElementB\"},{\"showarrow\":false,\"text\":\"0\",\"x\":\"ElementG\",\"y\":\"ElementB\"},{\"showarrow\":false,\"text\":\"1\",\"x\":\"ElementA\",\"y\":\"ElementC\"},{\"showarrow\":false,\"text\":\"0\",\"x\":\"ElementB\",\"y\":\"ElementC\"},{\"showarrow\":false,\"text\":\"0\",\"x\":\"ElementC\",\"y\":\"ElementC\"},{\"showarrow\":false,\"text\":\"0\",\"x\":\"ElementD\",\"y\":\"ElementC\"},{\"showarrow\":false,\"text\":\"0\",\"x\":\"ElementE\",\"y\":\"ElementC\"},{\"showarrow\":false,\"text\":\"0\",\"x\":\"ElementF\",\"y\":\"ElementC\"},{\"showarrow\":false,\"text\":\"1\",\"x\":\"ElementG\",\"y\":\"ElementC\"},{\"showarrow\":false,\"text\":\"0\",\"x\":\"ElementA\",\"y\":\"ElementD\"},{\"showarrow\":false,\"text\":\"0\",\"x\":\"ElementB\",\"y\":\"ElementD\"},{\"showarrow\":false,\"text\":\"0\",\"x\":\"ElementC\",\"y\":\"ElementD\"},{\"showarrow\":false,\"text\":\"0\",\"x\":\"ElementD\",\"y\":\"ElementD\"},{\"showarrow\":false,\"text\":\"1\",\"x\":\"ElementE\",\"y\":\"ElementD\"},{\"showarrow\":false,\"text\":\"0\",\"x\":\"ElementF\",\"y\":\"ElementD\"},{\"showarrow\":false,\"text\":\"0\",\"x\":\"ElementG\",\"y\":\"ElementD\"},{\"showarrow\":false,\"text\":\"0\",\"x\":\"ElementA\",\"y\":\"ElementE\"},{\"showarrow\":false,\"text\":\"1\",\"x\":\"ElementB\",\"y\":\"ElementE\"},{\"showarrow\":false,\"text\":\"0\",\"x\":\"ElementC\",\"y\":\"ElementE\"},{\"showarrow\":false,\"text\":\"0\",\"x\":\"ElementD\",\"y\":\"ElementE\"},{\"showarrow\":false,\"text\":\"0\",\"x\":\"ElementE\",\"y\":\"ElementE\"},{\"showarrow\":false,\"text\":\"1\",\"x\":\"ElementF\",\"y\":\"ElementE\"},{\"showarrow\":false,\"text\":\"0\",\"x\":\"ElementG\",\"y\":\"ElementE\"},{\"showarrow\":false,\"text\":\"0\",\"x\":\"ElementA\",\"y\":\"ElementF\"},{\"showarrow\":false,\"text\":\"0\",\"x\":\"ElementB\",\"y\":\"ElementF\"},{\"showarrow\":false,\"text\":\"1\",\"x\":\"ElementC\",\"y\":\"ElementF\"},{\"showarrow\":false,\"text\":\"0\",\"x\":\"ElementD\",\"y\":\"ElementF\"},{\"showarrow\":false,\"text\":\"0\",\"x\":\"ElementE\",\"y\":\"ElementF\"},{\"showarrow\":false,\"text\":\"0\",\"x\":\"ElementF\",\"y\":\"ElementF\"},{\"showarrow\":false,\"text\":\"0\",\"x\":\"ElementG\",\"y\":\"ElementF\"},{\"showarrow\":false,\"text\":\"1\",\"x\":\"ElementA\",\"y\":\"ElementG\"},{\"showarrow\":false,\"text\":\"0\",\"x\":\"ElementB\",\"y\":\"ElementG\"},{\"showarrow\":false,\"text\":\"0\",\"x\":\"ElementC\",\"y\":\"ElementG\"},{\"showarrow\":false,\"text\":\"0\",\"x\":\"ElementD\",\"y\":\"ElementG\"},{\"showarrow\":false,\"text\":\"1\",\"x\":\"ElementE\",\"y\":\"ElementG\"},{\"showarrow\":false,\"text\":\"0\",\"x\":\"ElementF\",\"y\":\"ElementG\"},{\"showarrow\":false,\"text\":\"0\",\"x\":\"ElementG\",\"y\":\"ElementG\"}]},                        {\"responsive\": true}                    ).then(function(){\n",
              "                            \n",
              "var gd = document.getElementById('1e3e05c3-f8f1-49fa-b6ce-281b0ce633a5');\n",
              "var x = new MutationObserver(function (mutations, observer) {{\n",
              "        var display = window.getComputedStyle(gd).display;\n",
              "        if (!display || display === 'none') {{\n",
              "            console.log([gd, 'removed!']);\n",
              "            Plotly.purge(gd);\n",
              "            observer.disconnect();\n",
              "        }}\n",
              "}});\n",
              "\n",
              "// Listen for the removal of the full notebook cells\n",
              "var notebookContainer = gd.closest('#notebook-container');\n",
              "if (notebookContainer) {{\n",
              "    x.observe(notebookContainer, {childList: true});\n",
              "}}\n",
              "\n",
              "// Listen for the clearing of the current output cell\n",
              "var outputEl = gd.closest('.output');\n",
              "if (outputEl) {{\n",
              "    x.observe(outputEl, {childList: true});\n",
              "}}\n",
              "\n",
              "                        })                };                            </script>        </div>\n",
              "</body>\n",
              "</html>"
            ]
          },
          "metadata": {}
        }
      ]
    },
    {
      "cell_type": "code",
      "source": [
        "# !streamlit run --server.port 80 /content/drive/MyDrive/DSM/my_script.py >/dev/null &"
      ],
      "metadata": {
        "id": "PKtBGaowIUUc"
      },
      "execution_count": 4,
      "outputs": []
    },
    {
      "cell_type": "code",
      "source": [
        "%%writefile /content/drive/MyDrive/DSM/app.py\n",
        "import sys\n",
        "sys.path.append('/content/drive/MyDrive/DSM')\n",
        "import streamlit as st\n",
        "import my_module\n",
        "txt=my_module.test()\n",
        "st.title(txt)\n",
        "\n",
        "# simple_streamlit_app.py\n",
        "\n",
        "import numpy as np\n",
        "import pandas as pd\n",
        "import streamlit as st\n",
        "df = pd.DataFrame( np.random.randn(10, 4), columns=['a2', 'b2', 'c','d'] )\n",
        "st.title(\"Simple Streamlit App\")\n",
        " \n",
        "st.dataframe(df) \n",
        "st.write(\"📈　Line-Chart\")\n",
        "st.line_chart(df)\n",
        " \n",
        "if st.checkbox('👓 Show DataFrame (with highlight_max)'):\n",
        " st.table(df.style.highlight_max(axis=0))\n"
      ],
      "metadata": {
        "colab": {
          "base_uri": "https://localhost:8080/"
        },
        "id": "R7CTa1gbaQQb",
        "outputId": "26c5286b-e773-4cbe-c7c4-253df835630c"
      },
      "execution_count": 14,
      "outputs": [
        {
          "output_type": "stream",
          "name": "stdout",
          "text": [
            "Overwriting /content/drive/MyDrive/DSM/app.py\n"
          ]
        }
      ]
    },
    {
      "cell_type": "code",
      "source": [
        "# from google.colab import files\n",
        "# files.view(\"/content/drive/MyDrive\")\n",
        "# files.view(\"my_script.py\")"
      ],
      "metadata": {
        "id": "mulfyKI_Qqpx"
      },
      "execution_count": null,
      "outputs": []
    },
    {
      "cell_type": "code",
      "source": [
        "# !streamlit run /content/drive/MyDrive/DSM/my_script.py & sleep 3 && npx localtunnel --port 8501\n",
        "!streamlit run /content/drive/MyDrive/DSM/app.py & sleep 3 && npx localtunnel --port 8501"
      ],
      "metadata": {
        "id": "JXg7CUxnSevQ",
        "colab": {
          "base_uri": "https://localhost:8080/"
        },
        "outputId": "ac5765cc-660f-4a27-b541-237598d882f4"
      },
      "execution_count": 15,
      "outputs": [
        {
          "output_type": "stream",
          "name": "stdout",
          "text": [
            "\n",
            "Collecting usage statistics. To deactivate, set browser.gatherUsageStats to False.\n",
            "\u001b[0m\n",
            "\u001b[0m\n",
            "\u001b[34m\u001b[1m  You can now view your Streamlit app in your browser.\u001b[0m\n",
            "\u001b[0m\n",
            "\u001b[34m  Network URL: \u001b[0m\u001b[1mhttp://172.28.0.12:8501\u001b[0m\n",
            "\u001b[34m  External URL: \u001b[0m\u001b[1mhttp://34.172.69.88:8501\u001b[0m\n",
            "\u001b[0m\n",
            "\u001b[K\u001b[?25hnpx: installed 22 in 2.286s\n",
            "your url is: https://young-towns-lie-34-172-69-88.loca.lt\n",
            "\u001b[34m  Stopping...\u001b[0m\n",
            "^C\n"
          ]
        }
      ]
    }
  ]
}