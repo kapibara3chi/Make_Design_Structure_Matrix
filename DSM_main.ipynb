{
  "nbformat": 4,
  "nbformat_minor": 0,
  "metadata": {
    "colab": {
      "provenance": [],
      "toc_visible": true,
      "mount_file_id": "https://github.com/kapibara3chi/Make_Design_Structure_Matrix/blob/main/DSM_main.ipynb",
      "authorship_tag": "ABX9TyMi3/d/fBxzeheEwo6fsHfU",
      "include_colab_link": true
    },
    "kernelspec": {
      "name": "python3",
      "display_name": "Python 3"
    },
    "language_info": {
      "name": "python"
    }
  },
  "cells": [
    {
      "cell_type": "markdown",
      "metadata": {
        "id": "view-in-github",
        "colab_type": "text"
      },
      "source": [
        "<a href=\"https://colab.research.google.com/github/kapibara3chi/Make_Design_Structure_Matrix/blob/main/DSM_main.ipynb\" target=\"_parent\"><img src=\"https://colab.research.google.com/assets/colab-badge.svg\" alt=\"Open In Colab\"/></a>"
      ]
    },
    {
      "cell_type": "markdown",
      "source": [
        "# DSM Post"
      ],
      "metadata": {
        "id": "KMMnv13-lOA7"
      }
    },
    {
      "cell_type": "markdown",
      "source": [
        "## 行列名の階層構造テスト"
      ],
      "metadata": {
        "id": "Wb1QcRBolTKJ"
      }
    },
    {
      "cell_type": "markdown",
      "source": [
        "### code"
      ],
      "metadata": {
        "id": "4nA3D-7KlXfj"
      }
    },
    {
      "cell_type": "code",
      "source": [
        "import pandas as pd\n",
        "import numpy as np\n",
        "import seaborn as sns\n",
        "# 階層型インデックスのDataFrameを作成する\n",
        "index = pd.MultiIndex.from_tuples(\n",
        "    [(\"A\", \"a\"), (\"A\", \"b\"), (\"B\", \"a\"), (\"B\", \"b\")], names=[\"親\", \"子\"]\n",
        ")\n",
        "columns = pd.MultiIndex.from_tuples(\n",
        "    [(\"X\", \"x\"), (\"X\", \"y\"), (\"Y\", \"x\"), (\"Y\", \"y\")], names=[\"親\", \"子\"]\n",
        ")\n",
        "data = np.random.randint(0, 10, (4, 4))\n",
        "df = pd.DataFrame(data, index=index, columns=columns)\n",
        "# DataFrameをヒートマップとして表示する\n",
        "sns.heatmap(df, annot=True, cmap=\"Blues\")\n",
        "import pandas as pd\n",
        "import numpy as np\n",
        "import seaborn as sns\n",
        "# 階層型インデックスのDataFrameを作成する\n",
        "index = pd.MultiIndex.from_tuples(\n",
        "    [(\"A\", \"a\"), (\"A\", \"b\"), (\"B\", \"a\"), (\"B\", \"b\")], names=[\"親\", \"子\"]\n",
        ")\n",
        "columns = pd.MultiIndex.from_tuples(\n",
        "    [(\"X\", \"x\"), (\"X\", \"y\"), (\"Y\", \"x\"), (\"Y\", \"y\")], names=[\"親\", \"子\"]\n",
        ")\n",
        "data = np.random.randint(0, 10, (4, 4))\n",
        "df = pd.DataFrame(data, index=index, columns=columns)\n",
        "# DataFrameをヒートマップとして表示する\n",
        "sns.heatmap(df, annot=True, cmap=\"Blues\")\n"
      ],
      "metadata": {
        "id": "4tSZPHoElda3",
        "outputId": "78a2b46c-6e5f-44ff-d930-79a79e8f3165",
        "colab": {
          "base_uri": "https://localhost:8080/",
          "height": 707
        }
      },
      "execution_count": 1,
      "outputs": [
        {
          "output_type": "stream",
          "name": "stderr",
          "text": [
            "/usr/local/lib/python3.10/dist-packages/seaborn/utils.py:61: UserWarning: Glyph 35242 (\\N{CJK UNIFIED IDEOGRAPH-89AA}) missing from current font.\n",
            "  fig.canvas.draw()\n",
            "/usr/local/lib/python3.10/dist-packages/seaborn/utils.py:61: UserWarning: Glyph 23376 (\\N{CJK UNIFIED IDEOGRAPH-5B50}) missing from current font.\n",
            "  fig.canvas.draw()\n"
          ]
        },
        {
          "output_type": "execute_result",
          "data": {
            "text/plain": [
              "<Axes: xlabel='親-子', ylabel='親-子'>"
            ]
          },
          "metadata": {},
          "execution_count": 1
        },
        {
          "output_type": "stream",
          "name": "stderr",
          "text": [
            "/usr/local/lib/python3.10/dist-packages/IPython/core/events.py:89: UserWarning: Glyph 35242 (\\N{CJK UNIFIED IDEOGRAPH-89AA}) missing from current font.\n",
            "  func(*args, **kwargs)\n",
            "/usr/local/lib/python3.10/dist-packages/IPython/core/events.py:89: UserWarning: Glyph 23376 (\\N{CJK UNIFIED IDEOGRAPH-5B50}) missing from current font.\n",
            "  func(*args, **kwargs)\n",
            "/usr/local/lib/python3.10/dist-packages/IPython/core/pylabtools.py:151: UserWarning: Glyph 35242 (\\N{CJK UNIFIED IDEOGRAPH-89AA}) missing from current font.\n",
            "  fig.canvas.print_figure(bytes_io, **kw)\n",
            "/usr/local/lib/python3.10/dist-packages/IPython/core/pylabtools.py:151: UserWarning: Glyph 23376 (\\N{CJK UNIFIED IDEOGRAPH-5B50}) missing from current font.\n",
            "  fig.canvas.print_figure(bytes_io, **kw)\n"
          ]
        },
        {
          "output_type": "display_data",
          "data": {
            "text/plain": [
              "<Figure size 640x480 with 3 Axes>"
            ],
            "image/png": "[encoded data removed]"
          },
          "metadata": {}
        }
      ]
    },
    {
      "cell_type": "markdown",
      "source": [
        "# Python"
      ],
      "metadata": {
        "id": "rfOJbiYRp200"
      }
    },
    {
      "cell_type": "code",
      "execution_count": null,
      "metadata": {
        "id": "h3Q5KdNbQfxt"
      },
      "outputs": [],
      "source": [
        "!pip install streamlit\n",
        "# !pip install pyngrok"
      ]
    },
    {
      "cell_type": "code",
      "source": [
        "# from google.colab import drive\n",
        "# drive.mount('/content/drive')"
      ],
      "metadata": {
        "id": "4d4eQ-SJu3dP"
      },
      "execution_count": null,
      "outputs": []
    },
    {
      "cell_type": "code",
      "source": [
        "# from pyngrok import ngrok\n",
        "\n",
        "# public_url = ngrok.connect(port='80')\n",
        "# print(public_url)\n",
        "# print(\"****\")"
      ],
      "metadata": {
        "id": "TeZ3dU9cILnV"
      },
      "execution_count": null,
      "outputs": []
    },
    {
      "cell_type": "code",
      "source": [
        "\n",
        "# ***work***\n",
        "# %%writefile /content/drive/MyDrive/DSM/my_module.py\n",
        "import seaborn as sns\n",
        "import pandas as pd\n",
        "import numpy as np\n",
        "import matplotlib.pyplot as plt\n",
        "def make_dsm_by_sns(B,values):\n",
        "\n",
        "  # # データの作成\n",
        " # print(df)\n",
        "\n",
        "  # Seabornを使ったヒートマップの作成\n",
        "  # sns.heatmap(df, annot=True, cmap='Blues', fmt='d', linewidths=0.5, linecolor='grey', square=True)\n",
        "\n",
        "  sns.heatmap(B, annot=True, cbar=False, square=True, cmap=\"Blues\", linewidths=0.5, linecolor=\"grey\",\n",
        "            xticklabels=values, yticklabels=values)\n",
        "\n",
        "  plt.title('DSMtest')\n",
        "  plt.savefig(\"DSMtest.png\",bbox_inches=\"tight\")\n",
        "  plt.show()\n",
        "\n",
        "## convert DSM to ReachableMatrix\n",
        "\n",
        "def toReachableMatrix(DSM):\n",
        "    size_DSM = DSM.shape[0]\n",
        "    I = np.eye(size_DSM, dtype=int) # identity matrix\n",
        "    R1 = np.zeros((size_DSM, size_DSM), dtype=int)\n",
        "    calcmax = 1000\n",
        "\n",
        "    for i in range(1, calcmax+1):\n",
        "        R1 = np.linalg.matrix_power((DSM + I), i)\n",
        "        Rindex = np.where(R1 > 1)\n",
        "        R1[Rindex] = np.ones(len(Rindex[0]), dtype=int)\n",
        "\n",
        "        R2 = np.linalg.matrix_power((DSM + I), (i+1))\n",
        "        Rindex = np.where(R2 > 1)\n",
        "        R2[Rindex] = np.ones(len(Rindex[0]), dtype=int)\n",
        "\n",
        "        if np.array_equal(R1, R2):\n",
        "            break\n",
        "\n",
        "    return R1\n",
        "\n",
        "\n",
        "def OrderReachable(Reachable):\n",
        "    original = np.copy(Reachable)\n",
        "    DSMsize = Reachable.shape[0]\n",
        "    count = 0\n",
        "    valuesDSM = np.arange(1, DSMsize+1)\n",
        "    # print(valuesDSM)\n",
        "    count = 0\n",
        "    level = np.zeros(DSMsize, dtype=int)\n",
        "    # print(level)\n",
        "\n",
        "    while count < DSMsize:\n",
        "        R = Reachable.copy()\n",
        "        A = Reachable.T.copy()\n",
        "        # RA = R.dot(A)\n",
        "        # R = Reachable\n",
        "        # A = Reachable.T\n",
        "        RA = np.multiply(R, A)\n",
        "        (RAsize, _) = RA.shape\n",
        "        elements = np.arange(1, RAsize+1)\n",
        "        # print(\"R\")\n",
        "        # print(R)\n",
        "        # print(\"A\")\n",
        "        # print(A)\n",
        "        # print(\"RA\")\n",
        "        # print(RA)\n",
        "        # print(\"RA[0]\",RA[0,:])\n",
        "        # print(\"R[0]\",R[0,:])\n",
        "        # sys.exit()\n",
        "\n",
        "        for i in range(RAsize):\n",
        "\n",
        "            if np.array_equal(RA[i,:], R[i,:]):\n",
        "                    count += 1\n",
        "                    # print(count)\n",
        "                    level[count-1] = valuesDSM[i]\n",
        "                    elements[i] = 0\n",
        "\n",
        "        elements = elements[elements > 0]\n",
        "        Reachable = Reachable[elements - 1, :][:, elements - 1]\n",
        "        valuesDSM = valuesDSM[elements - 1]\n",
        "\n",
        "    orderedReachable = original[level-1, level-1]\n",
        "\n",
        "    return orderedReachable, level\n",
        "\n",
        "def Sequencing(DSM, label):\n",
        "    cDSM = DSM.copy()\n",
        "    clabel = label.copy()\n",
        "\n",
        "    Reachable = toReachableMatrix(cDSM)\n",
        "\n",
        "    OrderedReachable, level = OrderReachable(Reachable)\n",
        "    # print(OrderedReachable)\n",
        "    # print(level)\n",
        "    # print(type(level))\n",
        "    # print(cDSM)\n",
        "    # print(cDSM[0,0])\n",
        "    # print(cDSM[2,0])\n",
        "\n",
        "    # level=np.array([ 1 ,2 ,5 ,6 ,4 ,9,10, 3 ,8,13,14,15 ,7,11,12])\n",
        "    level=level-1\n",
        "    # print(level[:, np.newaxis])\n",
        "    SequencedDSM = cDSM[level[:, np.newaxis], level]\n",
        "    # print(SequencedDSM)\n",
        "    # print(clabel)\n",
        "    Sequencedlabel = np.take(label, level)\n",
        "    # print(Sequencedlabel)\n",
        "    # print(\"--------\")\n",
        "    # SequencedDSM = cDSM[level[:, np.newaxis], level-1]\n",
        "    # Sequencedlabel = clabel[level]\n",
        "\n",
        "    return SequencedDSM, Sequencedlabel\n",
        "\n",
        "\n",
        "if __name__ == '__main__':\n",
        "\n",
        "  # データの作成\n",
        "  # Check Reachble Matrix\n",
        "  # DSM = np.array([[0, 0, 0, 0, 1, 0],\n",
        "  #                 [1, 0, 1, 1, 1, 0],\n",
        "  #                 [0, 0, 0, 1, 1, 0],\n",
        "  #                 [0, 0, 1, 0, 0, 0],\n",
        "  #                 [0, 0, 0, 0, 0, 0],\n",
        "  #                 [0, 1, 0, 0, 1, 0]])\n",
        "  # label = [\"A\", \"B\", \"C\", \"D\", \"E\", \"F\"]\n",
        "\n",
        "  DSM=np.array([[1,0,0,0,0,0,0,0,0,0,0,0,0,0,0],\n",
        "                    [0,1,0,0,0,0,0,0,0,0,0,0,0,0,0],\n",
        "                    [1,1,1,1,1,0,0,1,1,0,0,0,0,0,0],\n",
        "                    [1,1,0,1,1,0,0,0,1,0,0,0,0,0,0],\n",
        "                    [0,1,0,0,1,0,0,0,0,0,0,0,0,0,0],\n",
        "                    [0,1,0,0,0,1,0,0,0,0,0,0,0,0,0],\n",
        "                    [1,1,1,1,1,0,1,1,1,0,0,0,0,0,0],\n",
        "                    [1,1,1,1,1,0,0,1,1,0,0,0,0,0,0],\n",
        "                    [1,1,0,1,1,0,0,0,1,0,0,0,0,0,0],\n",
        "                    [0,1,0,0,1,1,0,0,0,1,0,0,0,0,0],\n",
        "                    [1,1,1,1,1,0,1,1,1,0,1,0,0,0,0],\n",
        "                    [1,1,1,1,1,0,1,1,1,0,1,1,0,0,0],\n",
        "                    [1,1,0,1,1,0,0,0,1,0,0,0,1,0,0],\n",
        "                    [0,1,0,0,1,1,0,0,0,1,0,0,0,1,0],\n",
        "                    [0,1,0,0,1,1,0,0,0,1,0,0,0,0,1]])\n",
        "  label = [\"A\", \"B\", \"C\", \"D\", \"E\", \"F\",\"G\",\"H\",\"I\",\"J\",\"K\",\"L\",\"M\",\"N\",\"O\"]\n",
        "  make_dsm_by_sns(DSM,label)\n",
        "\n",
        "  SequencedDSM, Sequencedlabel = Sequencing(DSM, label)\n",
        "  print(\"Sequenced DSM:\\n\")\n",
        "  make_dsm_by_sns(SequencedDSM,Sequencedlabel)\n",
        "  # print(\"Sequenced label:\\n\", Sequencedlabel)\n",
        "  # df = pd.DataFrame(data=B, columns=value_l,index=value_l)"
      ],
      "metadata": {
        "colab": {
          "base_uri": "https://localhost:8080/",
          "height": 921
        },
        "id": "RDIfhU5MDQ9Z",
        "outputId": "3ecb9e48-e131-4db7-bc61-4e9d65af203d"
      },
      "execution_count": null,
      "outputs": [
        {
          "output_type": "display_data",
          "data": {
            "text/plain": [
              "<Figure size 640x480 with 1 Axes>"
            ],
            "image/png": "[encoded data removed]"
          },
          "metadata": {}
        },
        {
          "output_type": "stream",
          "name": "stdout",
          "text": [
            "Sequenced DSM:\n",
            "\n"
          ]
        },
        {
          "output_type": "display_data",
          "data": {
            "text/plain": [
              "<Figure size 640x480 with 1 Axes>"
            ],
            "image/png": "[encoded data removed]"
          },
          "metadata": {}
        }
      ]
    },
    {
      "cell_type": "code",
      "source": [
        "# !streamlit run --server.port 80 /content/drive/MyDrive/DSM/my_script.py >/dev/null &"
      ],
      "metadata": {
        "id": "PKtBGaowIUUc"
      },
      "execution_count": null,
      "outputs": []
    },
    {
      "cell_type": "code",
      "source": [
        "%%writefile /content/drive/MyDrive/DSM/app.py\n",
        "import sys\n",
        "sys.path.append('/content/drive/MyDrive/DSM')\n",
        "import streamlit as st\n",
        "import my_module\n",
        "txt=my_module.test()\n",
        "st.title(txt)\n",
        "\n",
        "# simple_streamlit_app.py\n",
        "\n",
        "import numpy as np\n",
        "import pandas as pd\n",
        "import streamlit as st\n",
        "df = pd.DataFrame( np.random.randn(10, 4), columns=['a2', 'b2', 'c','d'] )\n",
        "st.title(\"Simple Streamlit App\")\n",
        "\n",
        "st.dataframe(df)\n",
        "st.write(\"📈　Line-Chart\")\n",
        "st.line_chart(df)\n",
        "\n",
        "if st.checkbox('👓 Show DataFrame (with highlight_max)'):\n",
        " st.table(df.style.highlight_max(axis=0))\n"
      ],
      "metadata": {
        "colab": {
          "base_uri": "https://localhost:8080/"
        },
        "id": "R7CTa1gbaQQb",
        "outputId": "26c5286b-e773-4cbe-c7c4-253df835630c"
      },
      "execution_count": null,
      "outputs": [
        {
          "output_type": "stream",
          "name": "stdout",
          "text": [
            "Overwriting /content/drive/MyDrive/DSM/app.py\n"
          ]
        }
      ]
    },
    {
      "cell_type": "code",
      "source": [
        "# from google.colab import files\n",
        "# files.view(\"/content/drive/MyDrive\")\n",
        "# files.view(\"my_script.py\")"
      ],
      "metadata": {
        "id": "mulfyKI_Qqpx"
      },
      "execution_count": null,
      "outputs": []
    },
    {
      "cell_type": "code",
      "source": [
        "# !streamlit run /content/drive/MyDrive/DSM/my_script.py & sleep 3 && npx localtunnel --port 8501\n",
        "!streamlit run /content/drive/MyDrive/DSM/app.py & sleep 3 && npx localtunnel --port 8501"
      ],
      "metadata": {
        "id": "JXg7CUxnSevQ",
        "colab": {
          "base_uri": "https://localhost:8080/"
        },
        "outputId": "ac5765cc-660f-4a27-b541-237598d882f4"
      },
      "execution_count": null,
      "outputs": [
        {
          "output_type": "stream",
          "name": "stdout",
          "text": [
            "\n",
            "Collecting usage statistics. To deactivate, set browser.gatherUsageStats to False.\n",
            "\u001b[0m\n",
            "\u001b[0m\n",
            "\u001b[34m\u001b[1m  You can now view your Streamlit app in your browser.\u001b[0m\n",
            "\u001b[0m\n",
            "\u001b[34m  Network URL: \u001b[0m\u001b[1mhttp://172.28.0.12:8501\u001b[0m\n",
            "\u001b[34m  External URL: \u001b[0m\u001b[1mhttp://34.172.69.88:8501\u001b[0m\n",
            "\u001b[0m\n",
            "\u001b[K\u001b[?25hnpx: installed 22 in 2.286s\n",
            "your url is: https://young-towns-lie-34-172-69-88.loca.lt\n",
            "\u001b[34m  Stopping...\u001b[0m\n",
            "^C\n"
          ]
        }
      ]
    },
    {
      "cell_type": "markdown",
      "source": [
        "# Python dash"
      ],
      "metadata": {
        "id": "g30Kc0HCwDnD"
      }
    },
    {
      "cell_type": "code",
      "source": [
        "!pip install dash\n",
        "!pip install dash_core_components\n",
        "!pip install dash_html_components\n",
        "!pip install dash_cytoscape\n",
        "!pip install dash_table\n",
        "!pip install plotly\n",
        "!pip install pandas"
      ],
      "metadata": {
        "id": "sQmOIZazwlm1"
      },
      "execution_count": null,
      "outputs": []
    },
    {
      "cell_type": "code",
      "source": [
        "import dash\n",
        "import dash_core_components as dcc\n",
        "import dash_html_components as html\n",
        "import dash_cytoscape as cyto\n",
        "import dash_table\n",
        "import plotly.express as px\n",
        "import pandas as pd\n",
        "\n",
        "df = pd.DataFrame({\n",
        "    \"name\": [\"A\", \"B\", \"C\", \"D\", \"E\", \"F\", \"G\", \"H\", \"I\"],\n",
        "    \"parent\":[ \"A\", \"A\", \"A\", \"B\", \"B\", \"C\", \"C\", \"D\", \"E\"],\n",
        "    \"value\": [10, 20, 30, 40, 50, 60, 70, 80, 90],\n",
        "    \"group\": [\"X\", \"X\", \"X\", \"Y\", \"Y\", \"Z\", \"Z\", \"Z\", \"Z\"]\n",
        "})\n",
        "\n",
        "tree_fig = px.treemap(df, path=[\"parent\", \"name\"], values=\"value\", color=\"group\")\n",
        "\n",
        "# ノードのデータを作成\n",
        "nodes = [{\"data\": {\"id\": name, \"label\": name}} for name in df[\"name\"]]\n",
        "\n",
        "# エッジのデータを作成\n",
        "edges = [{\"data\": {\"source\": parent, \"target\": name}} for parent, name in zip(df[\"parent\"], df[\"name\"]) if parent is not None]\n",
        "\n",
        "# ノードとエッジのデータを結合\n",
        "elements = nodes + edges\n",
        "\n",
        "# Cytoscapeコンポーネントを作成\n",
        "network = cyto.Cytoscape(\n",
        "    id=\"network\",\n",
        "    elements=elements,\n",
        "    layout={\"name\": \"breadthfirst\"},\n",
        "    style={\"width\": \"100%\", \"height\": \"400px\"}\n",
        ")\n",
        "\n",
        "# DataTableコンポーネントを作成\n",
        "matrix = dash_table.DataTable(\n",
        "    id=\"matrix\",\n",
        "    columns=[{\"name\": col, \"id\": col} for col in df.columns],\n",
        "    data=df.to_dict(\"records\"),\n",
        "    style_cell={\"textAlign\": \"center\"}\n",
        ")\n",
        "\n",
        "app = dash.Dash(__name__)\n",
        "\n",
        "app.layout = html.Div([\n",
        "    html.H1(\"Dashでツリー表示とネットワーク図とマトリクス表示を行うUIを作成する\"),\n",
        "    html.Div([\n",
        "        dcc.Graph(figure=tree_fig, id=\"tree\")\n",
        "    ], style={\"width\": \"50%\", \"display\": \"inline-block\"}),\n",
        "    html.Div([\n",
        "        network\n",
        "    ], style={\"width\": \"50%\", \"display\": \"inline-block\"}),\n",
        "    html.Div([\n",
        "        matrix\n",
        "    ], style={\"width\": \"100%\"})\n",
        "])\n",
        "\n",
        "if __name__ == \"__main__\":\n",
        "    app.run_server(debug=True)\n"
      ],
      "metadata": {
        "colab": {
          "base_uri": "https://localhost:8080/",
          "height": 956
        },
        "id": "af3mVMucwSfj",
        "outputId": "c38ee72d-f074-47d3-9506-49a11d1eb8e8"
      },
      "execution_count": null,
      "outputs": [
        {
          "output_type": "stream",
          "name": "stderr",
          "text": [
            "<ipython-input-12-a4aff75d7c75>:2: UserWarning: \n",
            "The dash_core_components package is deprecated. Please replace\n",
            "`import dash_core_components as dcc` with `from dash import dcc`\n",
            "  import dash_core_components as dcc\n",
            "<ipython-input-12-a4aff75d7c75>:3: UserWarning: \n",
            "The dash_html_components package is deprecated. Please replace\n",
            "`import dash_html_components as html` with `from dash import html`\n",
            "  import dash_html_components as html\n",
            "<ipython-input-12-a4aff75d7c75>:5: UserWarning: \n",
            "The dash_table package is deprecated. Please replace\n",
            "`import dash_table` with `from dash import dash_table`\n",
            "\n",
            "Also, if you're using any of the table format helpers (e.g. Group), replace \n",
            "`from dash_table.Format import Group` with \n",
            "`from dash.dash_table.Format import Group`\n",
            "  import dash_table\n"
          ]
        },
        {
          "output_type": "display_data",
          "data": {
            "text/plain": [
              "<IPython.core.display.Javascript object>"
            ],
            "application/javascript": [
              "(async (port, path, width, height, cache, element) => {\n",
              "    if (!google.colab.kernel.accessAllowed && !cache) {\n",
              "      return;\n",
              "    }\n",
              "    element.appendChild(document.createTextNode(''));\n",
              "    const url = await google.colab.kernel.proxyPort(port, {cache});\n",
              "    const iframe = document.createElement('iframe');\n",
              "    iframe.src = new URL(path, url).toString();\n",
              "    iframe.height = height;\n",
              "    iframe.width = width;\n",
              "    iframe.style.border = 0;\n",
              "    iframe.allow = [\n",
              "        'accelerometer',\n",
              "        'autoplay',\n",
              "        'camera',\n",
              "        'clipboard-read',\n",
              "        'clipboard-write',\n",
              "        'gyroscope',\n",
              "        'magnetometer',\n",
              "        'microphone',\n",
              "        'serial',\n",
              "        'usb',\n",
              "        'xr-spatial-tracking',\n",
              "    ].join('; ');\n",
              "    element.appendChild(iframe);\n",
              "  })(8050, \"/\", \"100%\", 650, false, window.element)"
            ]
          },
          "metadata": {}
        }
      ]
    },
    {
      "cell_type": "markdown",
      "source": [
        "# flask test"
      ],
      "metadata": {
        "id": "ZVrw7zghI-KT"
      }
    },
    {
      "cell_type": "code",
      "source": [
        "!pip install dash dash-core-components dash-html-components dash-cytoscape dash-table plotly pandas\n"
      ],
      "metadata": {
        "id": "OJvWqGu3I5fv"
      },
      "execution_count": null,
      "outputs": []
    },
    {
      "cell_type": "code",
      "source": [
        "# app.py\n",
        "from flask import Flask, render_template, send_file\n",
        "import io\n",
        "import numpy as np\n",
        "import matplotlib.pyplot as plt\n",
        "\n",
        "app = Flask(__name__)\n",
        "\n",
        "@app.route(\"/\")\n",
        "def index():\n",
        "    return render_template(\"index.html\")\n",
        "\n",
        "@app.route(\"/graph\")\n",
        "def graph():\n",
        "    image = io.BytesIO()\n",
        "    x = np.linspace(0, 10)\n",
        "    y = np.sin(x)\n",
        "    plt.plot(x, y)\n",
        "    plt.savefig(image, format=\"png\")\n",
        "    image.seek(0)\n",
        "    return send_file(image, mimetype=\"image/png\")\n",
        "\n",
        "if __name__ == \"__main__\":\n",
        "    app.run(debug=True)\n"
      ],
      "metadata": {
        "id": "64xZR8izI1bZ",
        "outputId": "14baf9ec-31fb-41bb-c001-2ad9d281e782",
        "colab": {
          "base_uri": "https://localhost:8080/",
          "height": 218
        }
      },
      "execution_count": null,
      "outputs": [
        {
          "output_type": "error",
          "ename": "AttributeError",
          "evalue": "'Flask' object has no attribute 'run_server'",
          "traceback": [
            "\u001b[0;31m---------------------------------------------------------------------------\u001b[0m",
            "\u001b[0;31mAttributeError\u001b[0m                            Traceback (most recent call last)",
            "\u001b[0;32m<ipython-input-13-8e323033de84>\u001b[0m in \u001b[0;36m<cell line: 23>\u001b[0;34m()\u001b[0m\n\u001b[1;32m     22\u001b[0m \u001b[0;34m\u001b[0m\u001b[0m\n\u001b[1;32m     23\u001b[0m \u001b[0;32mif\u001b[0m \u001b[0m__name__\u001b[0m \u001b[0;34m==\u001b[0m \u001b[0;34m\"__main__\"\u001b[0m\u001b[0;34m:\u001b[0m\u001b[0;34m\u001b[0m\u001b[0;34m\u001b[0m\u001b[0m\n\u001b[0;32m---> 24\u001b[0;31m     \u001b[0mapp\u001b[0m\u001b[0;34m.\u001b[0m\u001b[0mrun_server\u001b[0m\u001b[0;34m(\u001b[0m\u001b[0mdebug\u001b[0m\u001b[0;34m=\u001b[0m\u001b[0;32mTrue\u001b[0m\u001b[0;34m)\u001b[0m\u001b[0;34m\u001b[0m\u001b[0;34m\u001b[0m\u001b[0m\n\u001b[0m",
            "\u001b[0;31mAttributeError\u001b[0m: 'Flask' object has no attribute 'run_server'"
          ]
        }
      ]
    },
    {
      "cell_type": "code",
      "source": [
        "%%writefile index.html\n",
        "<!-- index.html -->\n",
        "<!DOCTYPE html>\n",
        "<html lang=\"ja\">\n",
        "<head>\n",
        "    <meta charset=\"UTF-8\">\n",
        "    <title>FlaskでBootstrapとPyplotを併用する</title>\n",
        "    <!-- Bootstrap CDN -->\n",
        "    <link rel=\"stylesheet\" href=\"https://stackpath.bootstrapcdn.com/bootstrap/4.5.2/css/bootstrap.min.css\">\n",
        "    <script src=\"https://code.jquery.com/jquery-3.5.1.slim.min.js\"></script>\n",
        "    <script src=\"https://stackpath.bootstrapcdn.com/bootstrap/4.5.2/js/bootstrap.min.js\"></script>\n",
        "</head>\n",
        "<body>\n",
        "    <div class=\"container\">\n",
        "        <h1>FlaskでBootstrapとPyplotを併用する</h1>\n",
        "        <p>このページはFlaskでBootstrapとPyplotを併用して作成されています。</p>\n",
        "        <div class=\"row\">\n",
        "            <div class=\"col-md-6\">\n",
        "                <h2>Bootstrapの例</h2>\n",
        "                <div class=\"alert alert-success\" role=\"alert\">\n",
        "                    Bootstrapのアラートコンポーネントです。\n",
        "                </div>\n",
        "                <button type=\"button\" class=\"btn btn-primary\">Bootstrapのボタンコンポーネントです。</button>\n",
        "            </div>\n",
        "            <div class=\"col-md-6\">\n",
        "                <h2>Pyplotの例</h2>\n",
        "                <img src=\"/graph\" alt=\"Pyplotで作成したグラフです。\">\n",
        "            </div>\n",
        "        </div>\n",
        "    </div>\n",
        "</body>\n",
        "</html>\n"
      ],
      "metadata": {
        "id": "7eeN2sSIG8Xl",
        "outputId": "2aafe3b8-57ab-4ee9-b0dc-9df217d6f7cd",
        "colab": {
          "base_uri": "https://localhost:8080/"
        }
      },
      "execution_count": null,
      "outputs": [
        {
          "output_type": "stream",
          "name": "stdout",
          "text": [
            "Overwriting index.html\n"
          ]
        }
      ]
    },
    {
      "cell_type": "markdown",
      "source": [
        "# Graph database"
      ],
      "metadata": {
        "id": "kTuP9VrsFQgZ"
      }
    },
    {
      "cell_type": "markdown",
      "source": [
        "## cogDB"
      ],
      "metadata": {
        "id": "eq-_fE3bFYaU"
      }
    },
    {
      "cell_type": "code",
      "source": [
        "!pip install cogdb"
      ],
      "metadata": {
        "id": "aIWM-pX0Gm06",
        "outputId": "2b7b666e-a47e-41fd-d18a-841dd8369310",
        "colab": {
          "base_uri": "https://localhost:8080/"
        }
      },
      "execution_count": null,
      "outputs": [
        {
          "output_type": "stream",
          "name": "stdout",
          "text": [
            "Collecting cogdb\n",
            "  Downloading cogdb-3.0.7-py3-none-any.whl (18 kB)\n",
            "Collecting xxhash==3.2.0 (from cogdb)\n",
            "  Downloading xxhash-3.2.0-cp310-cp310-manylinux_2_17_x86_64.manylinux2014_x86_64.whl (212 kB)\n",
            "\u001b[2K     \u001b[90m━━━━━━━━━━━━━━━━━━━━━━━━━━━━━━━━━━━━━━━━\u001b[0m \u001b[32m212.5/212.5 kB\u001b[0m \u001b[31m2.2 MB/s\u001b[0m eta \u001b[36m0:00:00\u001b[0m\n",
            "\u001b[?25hInstalling collected packages: xxhash, cogdb\n",
            "  Attempting uninstall: xxhash\n",
            "    Found existing installation: xxhash 3.4.1\n",
            "    Uninstalling xxhash-3.4.1:\n",
            "      Successfully uninstalled xxhash-3.4.1\n",
            "Successfully installed cogdb-3.0.7 xxhash-3.2.0\n"
          ]
        }
      ]
    },
    {
      "cell_type": "code",
      "source": [
        "from cog.torque import Graph\n",
        "g = Graph(\"people\")\n",
        "g.put(\"alice\",\"follows\",\"bob\")\n",
        "g.put(\"bob\",\"follows\",\"fred\")\n",
        "g.put(\"bob\",\"status\",\"cool_person\")\n",
        "g.put(\"charlie\",\"follows\",\"bob\")\n",
        "g.put(\"charlie\",\"follows\",\"dani\")\n",
        "g.put(\"dani\",\"follows\",\"bob\")\n",
        "g.put(\"dani\",\"follows\",\"greg\")\n",
        "g.put(\"dani\",\"status\",\"cool_person\")\n",
        "g.put(\"emily\",\"follows\",\"fred\")\n",
        "g.put(\"fred\",\"follows\",\"greg\")\n",
        "g.put(\"greg\",\"status\",\"cool_person\")\n",
        "g.put(\"bob\",\"score\",\"5\")\n",
        "g.put(\"greg\",\"score\",\"10\")\n",
        "g.put(\"alice\",\"score\",\"7\")\n",
        "g.put(\"dani\",\"score\",\"100\")\n",
        "\n",
        "g.v().has(\"status\", 'cool_person').all()\n",
        "\n",
        "g.v().tag(\"from\").out(\"follows\").tag(\"to\").view(\"follows\").render()"
      ],
      "metadata": {
        "id": "zrWJg6XPG7tW",
        "outputId": "c0afd79b-8056-4117-d81f-5cfc90bdceb0",
        "colab": {
          "base_uri": "https://localhost:8080/",
          "height": 236
        }
      },
      "execution_count": null,
      "outputs": [
        {
          "output_type": "error",
          "ename": "AttributeError",
          "evalue": "'Graph' object has no attribute 'save'",
          "traceback": [
            "\u001b[0;31m---------------------------------------------------------------------------\u001b[0m",
            "\u001b[0;31mAttributeError\u001b[0m                            Traceback (most recent call last)",
            "\u001b[0;32m<ipython-input-5-145b84fa79c3>\u001b[0m in \u001b[0;36m<cell line: 20>\u001b[0;34m()\u001b[0m\n\u001b[1;32m     18\u001b[0m \u001b[0;34m\u001b[0m\u001b[0m\n\u001b[1;32m     19\u001b[0m \u001b[0mg\u001b[0m\u001b[0;34m.\u001b[0m\u001b[0mv\u001b[0m\u001b[0;34m(\u001b[0m\u001b[0;34m)\u001b[0m\u001b[0;34m.\u001b[0m\u001b[0mhas\u001b[0m\u001b[0;34m(\u001b[0m\u001b[0;34m\"status\"\u001b[0m\u001b[0;34m,\u001b[0m \u001b[0;34m'cool_person'\u001b[0m\u001b[0;34m)\u001b[0m\u001b[0;34m.\u001b[0m\u001b[0mall\u001b[0m\u001b[0;34m(\u001b[0m\u001b[0;34m)\u001b[0m\u001b[0;34m\u001b[0m\u001b[0;34m\u001b[0m\u001b[0m\n\u001b[0;32m---> 20\u001b[0;31m \u001b[0mg\u001b[0m\u001b[0;34m.\u001b[0m\u001b[0msave\u001b[0m\u001b[0;34m(\u001b[0m\u001b[0;34m\"test.csv\"\u001b[0m\u001b[0;34m)\u001b[0m\u001b[0;34m\u001b[0m\u001b[0;34m\u001b[0m\u001b[0m\n\u001b[0m\u001b[1;32m     21\u001b[0m \u001b[0mg\u001b[0m\u001b[0;34m.\u001b[0m\u001b[0mv\u001b[0m\u001b[0;34m(\u001b[0m\u001b[0;34m)\u001b[0m\u001b[0;34m.\u001b[0m\u001b[0mtag\u001b[0m\u001b[0;34m(\u001b[0m\u001b[0;34m\"from\"\u001b[0m\u001b[0;34m)\u001b[0m\u001b[0;34m.\u001b[0m\u001b[0mout\u001b[0m\u001b[0;34m(\u001b[0m\u001b[0;34m\"follows\"\u001b[0m\u001b[0;34m)\u001b[0m\u001b[0;34m.\u001b[0m\u001b[0mtag\u001b[0m\u001b[0;34m(\u001b[0m\u001b[0;34m\"to\"\u001b[0m\u001b[0;34m)\u001b[0m\u001b[0;34m.\u001b[0m\u001b[0mview\u001b[0m\u001b[0;34m(\u001b[0m\u001b[0;34m\"follows\"\u001b[0m\u001b[0;34m)\u001b[0m\u001b[0;34m.\u001b[0m\u001b[0mrender\u001b[0m\u001b[0;34m(\u001b[0m\u001b[0;34m)\u001b[0m\u001b[0;34m\u001b[0m\u001b[0;34m\u001b[0m\u001b[0m\n",
            "\u001b[0;31mAttributeError\u001b[0m: 'Graph' object has no attribute 'save'"
          ]
        }
      ]
    },
    {
      "cell_type": "markdown",
      "source": [
        "  ### ⇒ データベースへの出力方法は無いので採用しない"
      ],
      "metadata": {
        "id": "DZGZ8azgQRno"
      }
    },
    {
      "cell_type": "markdown",
      "source": [
        "## Neo4j"
      ],
      "metadata": {
        "id": "Q-uTEJSeQbjj"
      }
    },
    {
      "source": [
        "!pip install neo4j"
      ],
      "cell_type": "code",
      "metadata": {
        "id": "vQG7Drc_QpUA",
        "outputId": "1cee3939-20e2-4db4-dab2-b1bbcfea63fe",
        "colab": {
          "base_uri": "https://localhost:8080/"
        }
      },
      "execution_count": null,
      "outputs": [
        {
          "output_type": "stream",
          "name": "stdout",
          "text": [
            "Collecting neo4j\n",
            "  Downloading neo4j-5.16.0.tar.gz (197 kB)\n",
            "\u001b[2K     \u001b[90m━━━━━━━━━━━━━━━━━━━━━━━━━━━━━━━━━━━━━━━━\u001b[0m \u001b[32m197.8/197.8 kB\u001b[0m \u001b[31m1.7 MB/s\u001b[0m eta \u001b[36m0:00:00\u001b[0m\n",
            "\u001b[?25h  Installing build dependencies ... \u001b[?25l\u001b[?25hdone\n",
            "  Getting requirements to build wheel ... \u001b[?25l\u001b[?25hdone\n",
            "  Installing backend dependencies ... \u001b[?25l\u001b[?25hdone\n",
            "  Preparing metadata (pyproject.toml) ... \u001b[?25l\u001b[?25hdone\n",
            "Requirement already satisfied: pytz in /usr/local/lib/python3.10/dist-packages (from neo4j) (2023.3.post1)\n",
            "Building wheels for collected packages: neo4j\n",
            "  Building wheel for neo4j (pyproject.toml) ... \u001b[?25l\u001b[?25hdone\n",
            "  Created wheel for neo4j: filename=neo4j-5.16.0-py3-none-any.whl size=273811 sha256=6e4cfeaf2101143b19645fd041289de477a5225082e93dd426d4171b4f4e3869\n",
            "  Stored in directory: /root/.cache/pip/wheels/20/a0/f6/87a1ec9636c915fe2d6c6e859fd55a6231dd9bc95a1d5394b1\n",
            "Successfully built neo4j\n",
            "Installing collected packages: neo4j\n",
            "Successfully installed neo4j-5.16.0\n"
          ]
        }
      ]
    },
    {
      "cell_type": "code",
      "source": [
        "# prompt: Neo4jでデータベースからのデータの読み込み\n",
        "\n",
        "from neo4j import GraphDatabase\n",
        "import pandas as pd\n",
        "\n",
        "# Connect to the database\n",
        "server=\"bolt://3.237.184.88:7687\"\n",
        "id=\"neo4j\"\n",
        "password=\"technician-bites-brass\"\n",
        "driver = GraphDatabase.driver(server, auth=(id, password))\n",
        "session = driver.session()\n",
        "\n",
        "# Read data from the database\n",
        "query = \"\"\"\n",
        "MATCH (n)\n",
        "RETURN n.name AS name, n.age AS age\n",
        "\"\"\"\n",
        "result = session.run(query)\n",
        "\n",
        "# Convert the results to a DataFrame\n",
        "data = pd.DataFrame(result.data())\n",
        "\n",
        "# Print the DataFrame\n",
        "print(data)\n",
        "\n",
        "# Close the session and driver\n",
        "session.close()\n",
        "driver.close()\n"
      ],
      "metadata": {
        "id": "YIkTGa_4RRsB",
        "outputId": "92432cee-8773-4d32-86fd-1e809fdf3af8",
        "colab": {
          "base_uri": "https://localhost:8080/"
        }
      },
      "execution_count": null,
      "outputs": [
        {
          "output_type": "stream",
          "name": "stdout",
          "text": [
            "                   name   age\n",
            "0                  None  None\n",
            "1          Keanu Reeves  None\n",
            "2      Carrie-Anne Moss  None\n",
            "3    Laurence Fishburne  None\n",
            "4          Hugo Weaving  None\n",
            "..                  ...   ...\n",
            "166      Penny Marshall  None\n",
            "167         Paul Blythe  None\n",
            "168        Angela Scope  None\n",
            "169    Jessica Thompson  None\n",
            "170      James Thompson  None\n",
            "\n",
            "[171 rows x 2 columns]\n"
          ]
        }
      ]
    },
    {
      "cell_type": "markdown",
      "source": [
        "# Vue.js"
      ],
      "metadata": {
        "id": "v1zKTAT-ps9d"
      }
    },
    {
      "cell_type": "code",
      "source": [],
      "metadata": {
        "id": "Vm1NDAvVqc89"
      },
      "execution_count": null,
      "outputs": []
    },
    {
      "source": [
        "!pip install dash==2.0.0\n",
        "!pip install dash-core-components\n",
        "!pip install dash-html-components\n",
        "!pip install networkx"
      ],
      "cell_type": "code",
      "metadata": {
        "id": "aXBwwVKSsJ08"
      },
      "execution_count": null,
      "outputs": []
    },
    {
      "source": [
        "# インポートするライブラリ\n",
        "import dash\n",
        "import dash_core_components as dcc\n",
        "import dash_html_components as html\n",
        "import networkx as nx\n",
        "\n",
        "# データの準備\n",
        "G = nx.Graph()\n",
        "G.add_node(1)\n",
        "G.add_node(2)\n",
        "G.add_edge(1, 2)\n",
        "\n",
        "# レイアウトの作成\n",
        "app = dash.Dash(__name__)\n",
        "\n",
        "app.layout = html.Div([\n",
        "    html.H1('Network Visualization'),\n",
        "    dcc.Graph(id='network-graph'),\n",
        "    dcc.Graph(id='matrix-graph'),\n",
        "    dcc.Graph(id='tree-graph')\n",
        "])\n",
        "\n",
        "# コールバックの作成\n",
        "@app.callback(\n",
        "    Output('network-graph', 'figure'),\n",
        "    Output('matrix-graph', 'figure'),\n",
        "    Output('tree-graph', 'figure')\n",
        ")\n",
        "def update_graphs():\n",
        "    network_fig = nx.draw(G, with_labels=True)\n",
        "    matrix_fig = nx.draw_networkx_matrix(G)\n",
        "    tree_fig = nx.draw_networkx_tree(G)\n",
        "    return network_fig, matrix_fig, tree_fig\n",
        "\n",
        "# アプリケーションの実行\n",
        "if __name__ == '__main__':\n",
        "    app.run_server(debug=True)"
      ],
      "cell_type": "code",
      "metadata": {
        "colab": {
          "base_uri": "https://localhost:8080/",
          "height": 254
        },
        "id": "QiiHIpD0ryye",
        "outputId": "adebf744-4401-4e8c-b79e-f2e7d38ebe78"
      },
      "execution_count": null,
      "outputs": [
        {
          "output_type": "error",
          "ename": "NameError",
          "evalue": "name 'Output' is not defined",
          "traceback": [
            "\u001b[0;31m---------------------------------------------------------------------------\u001b[0m",
            "\u001b[0;31mNameError\u001b[0m                                 Traceback (most recent call last)",
            "\u001b[0;32m<ipython-input-13-4b4fc8135452>\u001b[0m in \u001b[0;36m<cell line: 24>\u001b[0;34m()\u001b[0m\n\u001b[1;32m     23\u001b[0m \u001b[0;31m# コールバックの作成\u001b[0m\u001b[0;34m\u001b[0m\u001b[0;34m\u001b[0m\u001b[0m\n\u001b[1;32m     24\u001b[0m @app.callback(\n\u001b[0;32m---> 25\u001b[0;31m     \u001b[0mOutput\u001b[0m\u001b[0;34m(\u001b[0m\u001b[0;34m'network-graph'\u001b[0m\u001b[0;34m,\u001b[0m \u001b[0;34m'figure'\u001b[0m\u001b[0;34m)\u001b[0m\u001b[0;34m,\u001b[0m\u001b[0;34m\u001b[0m\u001b[0;34m\u001b[0m\u001b[0m\n\u001b[0m\u001b[1;32m     26\u001b[0m     \u001b[0mOutput\u001b[0m\u001b[0;34m(\u001b[0m\u001b[0;34m'matrix-graph'\u001b[0m\u001b[0;34m,\u001b[0m \u001b[0;34m'figure'\u001b[0m\u001b[0;34m)\u001b[0m\u001b[0;34m,\u001b[0m\u001b[0;34m\u001b[0m\u001b[0;34m\u001b[0m\u001b[0m\n\u001b[1;32m     27\u001b[0m     \u001b[0mOutput\u001b[0m\u001b[0;34m(\u001b[0m\u001b[0;34m'tree-graph'\u001b[0m\u001b[0;34m,\u001b[0m \u001b[0;34m'figure'\u001b[0m\u001b[0;34m)\u001b[0m\u001b[0;34m\u001b[0m\u001b[0;34m\u001b[0m\u001b[0m\n",
            "\u001b[0;31mNameError\u001b[0m: name 'Output' is not defined"
          ]
        }
      ]
    }
  ]
}