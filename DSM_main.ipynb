{
  "nbformat": 4,
  "nbformat_minor": 0,
  "metadata": {
    "colab": {
      "provenance": [],
      "mount_file_id": "1NrmF8QwBT_SDKzyz_IHat8FiVAAws8nM",
      "authorship_tag": "ABX9TyP5XupJrF93TbJQitrngni6",
      "include_colab_link": true
    },
    "kernelspec": {
      "name": "python3",
      "display_name": "Python 3"
    },
    "language_info": {
      "name": "python"
    }
  },
  "cells": [
    {
      "cell_type": "markdown",
      "metadata": {
        "id": "view-in-github",
        "colab_type": "text"
      },
      "source": [
        "<a href=\"https://colab.research.google.com/github/kapibara3chi/Make_Design_Structure_Matrix/blob/main/DSM_main.ipynb\" target=\"_parent\"><img src=\"https://colab.research.google.com/assets/colab-badge.svg\" alt=\"Open In Colab\"/></a>"
      ]
    },
    {
      "cell_type": "code",
      "source": [
        "from google.colab import drive\n",
        "drive.mount('/content/drive')"
      ],
      "metadata": {
        "id": "4d4eQ-SJu3dP"
      },
      "execution_count": null,
      "outputs": []
    },
    {
      "cell_type": "code",
      "execution_count": null,
      "metadata": {
        "id": "h3Q5KdNbQfxt"
      },
      "outputs": [],
      "source": [
        "!pip install streamlit\n",
        "# !pip install pyngrok"
      ]
    },
    {
      "cell_type": "code",
      "source": [
        "# from pyngrok import ngrok\n",
        "\n",
        "# public_url = ngrok.connect(port='80')\n",
        "# print(public_url)\n",
        "# print(\"****\")"
      ],
      "metadata": {
        "id": "TeZ3dU9cILnV"
      },
      "execution_count": null,
      "outputs": []
    },
    {
      "cell_type": "code",
      "source": [
        "# !streamlit run --server.port 80 /content/drive/MyDrive/DSM/my_script.py >/dev/null &"
      ],
      "metadata": {
        "id": "PKtBGaowIUUc"
      },
      "execution_count": 22,
      "outputs": []
    },
    {
      "cell_type": "code",
      "source": [
        "# '''\n",
        "# %%writefile /content/drive/MyDrive/DSM/app.py\n",
        "import streamlit as st\n",
        "st.title(\"Hello World !!\")\n",
        "\n",
        "# simple_streamlit_app.py\n",
        "\n",
        "import numpy as np\n",
        "import pandas as pd\n",
        "import streamlit as st\n",
        "df = pd.DataFrame( np.random.randn(10, 4), columns=['a2', 'b2', 'c','d'] )\n",
        "st.title(\"Simple Streamlit App\")\n",
        " \n",
        "st.dataframe(df) \n",
        "st.write(\"📈　Line-Chart\")\n",
        "st.line_chart(df)\n",
        " \n",
        "if st.checkbox('👓 Show DataFrame (with highlight_max)'):\n",
        " st.table(df.style.highlight_max(axis=0))\n",
        "\n",
        "# '''"
      ],
      "metadata": {
        "colab": {
          "base_uri": "https://localhost:8080/"
        },
        "id": "R7CTa1gbaQQb",
        "outputId": "ffef5878-65a2-441c-f9bb-e1c3d2c49bd0"
      },
      "execution_count": 31,
      "outputs": [
        {
          "output_type": "stream",
          "name": "stdout",
          "text": [
            "Writing /content/drive/MyDrive/DSM/app.py\n"
          ]
        }
      ]
    },
    {
      "cell_type": "code",
      "source": [
        "# from google.colab import files\n",
        "# files.view(\"/content/drive/MyDrive\")\n",
        "# files.view(\"my_script.py\")"
      ],
      "metadata": {
        "id": "mulfyKI_Qqpx"
      },
      "execution_count": null,
      "outputs": []
    },
    {
      "cell_type": "code",
      "source": [
        "# !streamlit run /content/drive/MyDrive/DSM/my_script.py & sleep 3 && npx localtunnel --port 8501\n",
        "!streamlit run /content/drive/MyDrive/DSM/app.py & sleep 3 && npx localtunnel --port 8501"
      ],
      "metadata": {
        "id": "JXg7CUxnSevQ",
        "colab": {
          "base_uri": "https://localhost:8080/"
        },
        "outputId": "62f3a132-c061-47ed-a8db-cd2bba9b5ef1"
      },
      "execution_count": 32,
      "outputs": [
        {
          "output_type": "stream",
          "name": "stdout",
          "text": [
            "\n",
            "Collecting usage statistics. To deactivate, set browser.gatherUsageStats to False.\n",
            "\u001b[0m\n",
            "\u001b[0m\n",
            "\u001b[34m\u001b[1m  You can now view your Streamlit app in your browser.\u001b[0m\n",
            "\u001b[0m\n",
            "\u001b[34m  Network URL: \u001b[0m\u001b[1mhttp://172.28.0.12:8501\u001b[0m\n",
            "\u001b[34m  External URL: \u001b[0m\u001b[1mhttp://34.145.189.186:8501\u001b[0m\n",
            "\u001b[0m\n",
            "\u001b[K\u001b[?25hnpx: installed 22 in 1.725s\n",
            "your url is: https://tough-shoes-tickle-34-145-189-186.loca.lt\n"
          ]
        },
        {
          "output_type": "stream",
          "name": "stderr",
          "text": [
            "INFO:pyngrok.process.ngrok:t=2023-03-21T12:57:56+0000 lvl=info msg=\"received stop request\" obj=app stopReq=\"{err:<nil> restart:false}\"\n",
            "2023-03-21 12:57:56.074 t=2023-03-21T12:57:56+0000 lvl=info msg=\"received stop request\" obj=app stopReq=\"{err:<nil> restart:false}\"\n"
          ]
        },
        {
          "output_type": "stream",
          "name": "stdout",
          "text": [
            "\u001b[34m  Stopping...\u001b[0m\n",
            "^C\n"
          ]
        }
      ]
    }
  ]
}