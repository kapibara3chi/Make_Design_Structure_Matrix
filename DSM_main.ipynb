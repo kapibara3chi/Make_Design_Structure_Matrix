{
  "nbformat": 4,
  "nbformat_minor": 0,
  "metadata": {
    "colab": {
      "provenance": [],
      "toc_visible": true,
      "mount_file_id": "1NrmF8QwBT_SDKzyz_IHat8FiVAAws8nM",
      "authorship_tag": "ABX9TyOBrsJqhbPtw6DmCT0QKYS4",
      "include_colab_link": true
    },
    "kernelspec": {
      "name": "python3",
      "display_name": "Python 3"
    },
    "language_info": {
      "name": "python"
    }
  },
  "cells": [
    {
      "cell_type": "markdown",
      "metadata": {
        "id": "view-in-github",
        "colab_type": "text"
      },
      "source": [
        "<a href=\"https://colab.research.google.com/github/kapibara3chi/Make_Design_Structure_Matrix/blob/main/DSM_main.ipynb\" target=\"_parent\"><img src=\"https://colab.research.google.com/assets/colab-badge.svg\" alt=\"Open In Colab\"/></a>"
      ]
    },
    {
      "cell_type": "code",
      "execution_count": null,
      "metadata": {
        "colab": {
          "base_uri": "https://localhost:8080/"
        },
        "id": "h3Q5KdNbQfxt",
        "outputId": "2fbd9fea-82dc-472a-8272-afbbdfa9f469"
      },
      "outputs": [
        {
          "output_type": "stream",
          "name": "stdout",
          "text": [
            "Looking in indexes: https://pypi.org/simple, https://us-python.pkg.dev/colab-wheels/public/simple/\n",
            "Collecting streamlit\n",
            "  Downloading streamlit-1.20.0-py2.py3-none-any.whl (9.6 MB)\n",
            "\u001b[2K     \u001b[90m━━━━━━━━━━━━━━━━━━━━━━━━━━━━━━━━━━━━━━━━\u001b[0m \u001b[32m9.6/9.6 MB\u001b[0m \u001b[31m47.8 MB/s\u001b[0m eta \u001b[36m0:00:00\u001b[0m\n",
            "\u001b[?25hRequirement already satisfied: importlib-metadata>=1.4 in /usr/local/lib/python3.9/dist-packages (from streamlit) (6.1.0)\n",
            "Requirement already satisfied: protobuf<4,>=3.12 in /usr/local/lib/python3.9/dist-packages (from streamlit) (3.20.3)\n",
            "Collecting watchdog\n",
            "  Downloading watchdog-3.0.0-py3-none-manylinux2014_x86_64.whl (82 kB)\n",
            "\u001b[2K     \u001b[90m━━━━━━━━━━━━━━━━━━━━━━━━━━━━━━━━━━━━━━━━\u001b[0m \u001b[32m82.1/82.1 KB\u001b[0m \u001b[31m9.7 MB/s\u001b[0m eta \u001b[36m0:00:00\u001b[0m\n",
            "\u001b[?25hCollecting semver\n",
            "  Downloading semver-2.13.0-py2.py3-none-any.whl (12 kB)\n",
            "Requirement already satisfied: requests>=2.4 in /usr/local/lib/python3.9/dist-packages (from streamlit) (2.27.1)\n",
            "Requirement already satisfied: packaging>=14.1 in /usr/local/lib/python3.9/dist-packages (from streamlit) (23.0)\n",
            "Collecting pydeck>=0.1.dev5\n",
            "  Downloading pydeck-0.8.0-py2.py3-none-any.whl (4.7 MB)\n",
            "\u001b[2K     \u001b[90m━━━━━━━━━━━━━━━━━━━━━━━━━━━━━━━━━━━━━━━━\u001b[0m \u001b[32m4.7/4.7 MB\u001b[0m \u001b[31m75.4 MB/s\u001b[0m eta \u001b[36m0:00:00\u001b[0m\n",
            "\u001b[?25hRequirement already satisfied: toml in /usr/local/lib/python3.9/dist-packages (from streamlit) (0.10.2)\n",
            "Requirement already satisfied: rich>=10.11.0 in /usr/local/lib/python3.9/dist-packages (from streamlit) (13.3.3)\n",
            "Requirement already satisfied: cachetools>=4.0 in /usr/local/lib/python3.9/dist-packages (from streamlit) (5.3.0)\n",
            "Collecting pympler>=0.9\n",
            "  Downloading Pympler-1.0.1-py3-none-any.whl (164 kB)\n",
            "\u001b[2K     \u001b[90m━━━━━━━━━━━━━━━━━━━━━━━━━━━━━━━━━━━━━━\u001b[0m \u001b[32m164.8/164.8 KB\u001b[0m \u001b[31m16.7 MB/s\u001b[0m eta \u001b[36m0:00:00\u001b[0m\n",
            "\u001b[?25hRequirement already satisfied: typing-extensions>=3.10.0.0 in /usr/local/lib/python3.9/dist-packages (from streamlit) (4.5.0)\n",
            "Requirement already satisfied: altair<5,>=3.2.0 in /usr/local/lib/python3.9/dist-packages (from streamlit) (4.2.2)\n",
            "Requirement already satisfied: pyarrow>=4.0 in /usr/local/lib/python3.9/dist-packages (from streamlit) (9.0.0)\n",
            "Collecting blinker>=1.0.0\n",
            "  Downloading blinker-1.5-py2.py3-none-any.whl (12 kB)\n",
            "Requirement already satisfied: click>=7.0 in /usr/local/lib/python3.9/dist-packages (from streamlit) (8.1.3)\n",
            "Requirement already satisfied: tornado>=6.0.3 in /usr/local/lib/python3.9/dist-packages (from streamlit) (6.2)\n",
            "Requirement already satisfied: tzlocal>=1.1 in /usr/local/lib/python3.9/dist-packages (from streamlit) (4.3)\n",
            "Requirement already satisfied: pillow>=6.2.0 in /usr/local/lib/python3.9/dist-packages (from streamlit) (8.4.0)\n",
            "Requirement already satisfied: numpy in /usr/local/lib/python3.9/dist-packages (from streamlit) (1.22.4)\n",
            "Collecting validators>=0.2\n",
            "  Downloading validators-0.20.0.tar.gz (30 kB)\n",
            "  Preparing metadata (setup.py) ... \u001b[?25l\u001b[?25hdone\n",
            "Requirement already satisfied: python-dateutil in /usr/local/lib/python3.9/dist-packages (from streamlit) (2.8.2)\n",
            "Requirement already satisfied: pandas<2,>=0.25 in /usr/local/lib/python3.9/dist-packages (from streamlit) (1.4.4)\n",
            "Collecting gitpython!=3.1.19\n",
            "  Downloading GitPython-3.1.31-py3-none-any.whl (184 kB)\n",
            "\u001b[2K     \u001b[90m━━━━━━━━━━━━━━━━━━━━━━━━━━━━━━━━━━━━━━\u001b[0m \u001b[32m184.3/184.3 KB\u001b[0m \u001b[31m16.6 MB/s\u001b[0m eta \u001b[36m0:00:00\u001b[0m\n",
            "\u001b[?25hRequirement already satisfied: toolz in /usr/local/lib/python3.9/dist-packages (from altair<5,>=3.2.0->streamlit) (0.12.0)\n",
            "Requirement already satisfied: jsonschema>=3.0 in /usr/local/lib/python3.9/dist-packages (from altair<5,>=3.2.0->streamlit) (4.3.3)\n",
            "Requirement already satisfied: entrypoints in /usr/local/lib/python3.9/dist-packages (from altair<5,>=3.2.0->streamlit) (0.4)\n",
            "Requirement already satisfied: jinja2 in /usr/local/lib/python3.9/dist-packages (from altair<5,>=3.2.0->streamlit) (3.1.2)\n",
            "Collecting gitdb<5,>=4.0.1\n",
            "  Downloading gitdb-4.0.10-py3-none-any.whl (62 kB)\n",
            "\u001b[2K     \u001b[90m━━━━━━━━━━━━━━━━━━━━━━━━━━━━━━━━━━━━━━━━\u001b[0m \u001b[32m62.7/62.7 KB\u001b[0m \u001b[31m7.2 MB/s\u001b[0m eta \u001b[36m0:00:00\u001b[0m\n",
            "\u001b[?25hRequirement already satisfied: zipp>=0.5 in /usr/local/lib/python3.9/dist-packages (from importlib-metadata>=1.4->streamlit) (3.15.0)\n",
            "Requirement already satisfied: pytz>=2020.1 in /usr/local/lib/python3.9/dist-packages (from pandas<2,>=0.25->streamlit) (2022.7.1)\n",
            "Requirement already satisfied: six>=1.5 in /usr/local/lib/python3.9/dist-packages (from python-dateutil->streamlit) (1.16.0)\n",
            "Requirement already satisfied: idna<4,>=2.5 in /usr/local/lib/python3.9/dist-packages (from requests>=2.4->streamlit) (3.4)\n",
            "Requirement already satisfied: certifi>=2017.4.17 in /usr/local/lib/python3.9/dist-packages (from requests>=2.4->streamlit) (2022.12.7)\n",
            "Requirement already satisfied: urllib3<1.27,>=1.21.1 in /usr/local/lib/python3.9/dist-packages (from requests>=2.4->streamlit) (1.26.15)\n",
            "Requirement already satisfied: charset-normalizer~=2.0.0 in /usr/local/lib/python3.9/dist-packages (from requests>=2.4->streamlit) (2.0.12)\n",
            "Requirement already satisfied: pygments<3.0.0,>=2.13.0 in /usr/local/lib/python3.9/dist-packages (from rich>=10.11.0->streamlit) (2.14.0)\n",
            "Requirement already satisfied: markdown-it-py<3.0.0,>=2.2.0 in /usr/local/lib/python3.9/dist-packages (from rich>=10.11.0->streamlit) (2.2.0)\n",
            "Requirement already satisfied: pytz-deprecation-shim in /usr/local/lib/python3.9/dist-packages (from tzlocal>=1.1->streamlit) (0.1.0.post0)\n",
            "Requirement already satisfied: decorator>=3.4.0 in /usr/local/lib/python3.9/dist-packages (from validators>=0.2->streamlit) (4.4.2)\n",
            "Collecting smmap<6,>=3.0.1\n",
            "  Downloading smmap-5.0.0-py3-none-any.whl (24 kB)\n",
            "Requirement already satisfied: MarkupSafe>=2.0 in /usr/local/lib/python3.9/dist-packages (from jinja2->altair<5,>=3.2.0->streamlit) (2.1.2)\n",
            "Requirement already satisfied: pyrsistent!=0.17.0,!=0.17.1,!=0.17.2,>=0.14.0 in /usr/local/lib/python3.9/dist-packages (from jsonschema>=3.0->altair<5,>=3.2.0->streamlit) (0.19.3)\n",
            "Requirement already satisfied: attrs>=17.4.0 in /usr/local/lib/python3.9/dist-packages (from jsonschema>=3.0->altair<5,>=3.2.0->streamlit) (22.2.0)\n",
            "Requirement already satisfied: mdurl~=0.1 in /usr/local/lib/python3.9/dist-packages (from markdown-it-py<3.0.0,>=2.2.0->rich>=10.11.0->streamlit) (0.1.2)\n",
            "Requirement already satisfied: tzdata in /usr/local/lib/python3.9/dist-packages (from pytz-deprecation-shim->tzlocal>=1.1->streamlit) (2023.3)\n",
            "Building wheels for collected packages: validators\n",
            "  Building wheel for validators (setup.py) ... \u001b[?25l\u001b[?25hdone\n",
            "  Created wheel for validators: filename=validators-0.20.0-py3-none-any.whl size=19579 sha256=a20d298a0850acd654e52416db712f20534a4ced6810b4b106daa7af5830d3dc\n",
            "  Stored in directory: /root/.cache/pip/wheels/2d/f0/a8/1094fca7a7e5d0d12ff56e0c64675d72aa5cc81a5fc200e849\n",
            "Successfully built validators\n",
            "Installing collected packages: watchdog, validators, smmap, semver, pympler, blinker, pydeck, gitdb, gitpython, streamlit\n",
            "Successfully installed blinker-1.5 gitdb-4.0.10 gitpython-3.1.31 pydeck-0.8.0 pympler-1.0.1 semver-2.13.0 smmap-5.0.0 streamlit-1.20.0 validators-0.20.0 watchdog-3.0.0\n"
          ]
        }
      ],
      "source": [
        "!pip install streamlit\n",
        "# !pip install pyngrok"
      ]
    },
    {
      "cell_type": "code",
      "source": [
        "# from google.colab import drive\n",
        "# drive.mount('/content/drive')"
      ],
      "metadata": {
        "id": "4d4eQ-SJu3dP"
      },
      "execution_count": null,
      "outputs": []
    },
    {
      "cell_type": "code",
      "source": [
        "# from pyngrok import ngrok\n",
        "\n",
        "# public_url = ngrok.connect(port='80')\n",
        "# print(public_url)\n",
        "# print(\"****\")"
      ],
      "metadata": {
        "id": "TeZ3dU9cILnV"
      },
      "execution_count": null,
      "outputs": []
    },
    {
      "cell_type": "code",
      "source": [
        "# %%writefile /content/drive/MyDrive/DSM/my_module.py\n",
        "import seaborn as sns\n",
        "import pandas as pd\n",
        "import numpy as np\n",
        "import matplotlib.pyplot as plt\n",
        "def make_dsm_by_sns(B,values):\n",
        "\n",
        "  # # データの作成\n",
        " # print(df)\n",
        "  \n",
        "  # Seabornを使ったヒートマップの作成\n",
        "  # sns.heatmap(df, annot=True, cmap='Blues', fmt='d', linewidths=0.5, linecolor='grey', square=True)\n",
        "  \n",
        "  sns.heatmap(B, annot=True, cbar=False, square=True, cmap=\"Blues\", linewidths=0.5, linecolor=\"grey\",\n",
        "            xticklabels=values, yticklabels=values)\n",
        "\n",
        "  plt.title('DSMtest')\n",
        "  plt.savefig(\"DSMtest.png\",bbox_inches=\"tight\")\n",
        "  plt.show()\n",
        "\n",
        "def make_dsm_by_plotly():\n",
        "  import plotly.graph_objs as go\n",
        "  import numpy as np\n",
        "  \n",
        "  # データの定義\n",
        "  B = np.array([[0, 1, 0, 0, 0, 1, 0],\n",
        "                [0, 0, 0, 1, 0, 0, 0],\n",
        "                [1, 0, 0, 0, 0, 0, 1],\n",
        "                [0, 0, 0, 0, 1, 0, 0],\n",
        "                [0, 1, 0, 0, 0, 1, 0],\n",
        "                [0, 0, 1, 0, 0, 0, 0],\n",
        "                [1, 0, 0, 0, 1, 0, 0]])\n",
        "  \n",
        "  xvalues = [\"ElementA\", \"ElementB\", \"ElementC\", \"ElementD\", \"ElementE\", \"ElementF\", \"ElementG\"]\n",
        "  yvalues = [\"ElementA\", \"ElementB\", \"ElementC\", \"ElementD\", \"ElementE\", \"ElementF\", \"ElementG\"]\n",
        "  \n",
        "  # Plotlyのheatmap traceを作成\n",
        "  heatmap = go.Heatmap(z=B, x=xvalues, y=yvalues, colorscale='Blues', showscale=True, \n",
        "                      text=B, hoverinfo='skip', \n",
        "                      xgap=1, ygap=1, zmin=0, zmax=1)\n",
        "  \n",
        "  # Plotlyのfigureオブジェクトを作成\n",
        "  fig = go.Figure(data=[heatmap])\n",
        "  \n",
        "  # レイアウトの調整\n",
        "  fig.update_layout(width=600, height=600, xaxis_showgrid=True, yaxis_showgrid=True, \n",
        "                    yaxis_autorange='reversed', title='DSMtest')\n",
        "  \n",
        "  # ヒートマップの各セルに値を表示する\n",
        "  for i in range(len(yvalues)):\n",
        "      for j in range(len(xvalues)):\n",
        "          fig.add_annotation(x=xvalues[j], y=yvalues[i], text=str(B[i][j]), showarrow=False)\n",
        "  \n",
        "  # プロットの表示\n",
        "  fig.show()\n",
        "\n",
        "import numpy as np\n",
        "\n",
        "## convert DSM to ReachableMatrix\n",
        "\n",
        "def toReachableMatrix(DSM):\n",
        "    I = eye(DSM.shape[0]) # 単位行列の生成\n",
        "    calcmax = 1000\n",
        "    \n",
        "    for i in range(1, calcmax+1):\n",
        "        R1 = matrix_power((DSM + I), i)\n",
        "        Rindex = np.where(R1 > 1)\n",
        "        R1[Rindex] = ones(len(Rindex[0])) # ブール演算のかわり\n",
        "\n",
        "        R2 = matrix_power((DSM + I), i+1)\n",
        "        Rindex = np.where(R2 > 1)\n",
        "        R2[Rindex] = ones(len(Rindex[0])) # ブール演算のかわり\n",
        "\n",
        "        if np.array_equal(R1, R2):\n",
        "            break\n",
        "    return R1\n",
        "\n",
        "## order Reachable matrix for sequencing\n",
        "def OrderReachable(Reachable):\n",
        "    original = np.copy(Reachable)\n",
        "    DSMsize = Reachable.shape[0]\n",
        "    valuesDSM = np.arange(1, DSMsize+1)\n",
        "    count = 0\n",
        "    level = np.zeros(DSMsize, dtype=int)\n",
        "\n",
        "    while count < DSMsize:\n",
        "        R = Reachable\n",
        "        A = Reachable.T\n",
        "        RA = R * A\n",
        "        RAsize = RA.shape[0]\n",
        "        elements = np.arange(1, RAsize+1)\n",
        "\n",
        "        for i in range(RAsize):\n",
        "            if np.array_equal(RA[i], R[i]):\n",
        "                count += 1\n",
        "                level[count-1] = valuesDSM[i]\n",
        "                elements[i] = 0\n",
        "\n",
        "        elements = elements[elements > 0]\n",
        "        Reachable = Reachable[np.ix_(elements-1, elements-1)]\n",
        "        valuesDSM = valuesDSM[elements-1]\n",
        "\n",
        "    orderedReachable = original[np.ix_(level-1, level-1)]\n",
        "\n",
        "    return orderedReachable, level\n",
        "\n",
        "## sequencing DSM\n",
        "def Sequencing(DSM, label):\n",
        "    cDSM = np.copy(DSM)\n",
        "    clabel = label.copy()\n",
        "\n",
        "    Reachable = toReachableMatrix(cDSM)\n",
        "\n",
        "    OrderedReachable, level = OrderReachable(Reachable)\n",
        "    print(OrderedReachable)\n",
        "    print(level)\n",
        "\n",
        "    # SequencedDSM = cDSM[np.ix_(level-1, level-1)]\n",
        "    # Sequencedlabel = [clabel[i] for i in level-1]\n",
        "    # ラベルを基準にDSMを並び替える\n",
        "    idx = np.argsort(label)\n",
        "    DSM = DSM[:, idx][idx, :]\n",
        "    \n",
        "    # SequencedDSMを作成する\n",
        "    SequencedDSM = np.zeros_like(DSM)\n",
        "    for i in range(len(label)):\n",
        "        for j in range(len(label)):\n",
        "            if DSM[i,j] == 1:\n",
        "                SequencedDSM[i,j] = j+1\n",
        "\n",
        "\n",
        "\n",
        "\n",
        "    return SequencedDSM, Sequencedlabel\n",
        "\n",
        "# DSM = np.array([[0, 1, 0, 0, 0, 1, 0],\n",
        "#                 [0, 0, 0, 1, 0, 0, 0],\n",
        "#                 [1, 0, 0, 0, 0, 0, 1],\n",
        "#                 [0, 0, 0, 0, 1, 0, 0],\n",
        "#                 [0, 1, 0, 0, 0, 1, 0],\n",
        "#                 [0, 0, 1, 0, 0, 0, 0],\n",
        "#                 [1, 0, 0, 0, 1, 0, 0]])\n",
        "\n",
        "# label = [\"A\", \"B\", \"C\", \"D\", \"E\", \"F\", \"G\"]\n",
        "\n",
        "# SequencedDSM, Sequencedlabel = Sequencing(DSM, label)\n",
        "# print(\"Sequenced DSM:\\n\", SequencedDSM)\n",
        "# print(\"Sequenced label:\\n\", Sequencedlabel)\n",
        "\n",
        "\n",
        "if __name__ == '__main__':\n",
        "\n",
        "  # データの作成\n",
        "  DSM = np.array([[0, 0, 0, 0, 1, 0],\n",
        "                  [1, 0, 1, 1, 1, 0],\n",
        "                  [0, 0, 0, 1, 1, 0],\n",
        "                  [0, 0, 1, 0, 0, 0],\n",
        "                  [0, 0, 0, 0, 0, 0],\n",
        "                  [0, 1, 0, 0, 1, 0]])\n",
        "  \n",
        "  label = [\"A\", \"B\", \"C\", \"D\", \"E\", \"F\"]\n",
        "  \n",
        "  make_dsm_by_sns(DSM,label)\n",
        "\n",
        "  SequencedDSM, Sequencedlabel = Sequencing(DSM, label)\n",
        "  print(\"Sequenced DSM:\\n\", SequencedDSM)\n",
        "  print(\"Sequenced label:\\n\", Sequencedlabel)\n",
        "  # df = pd.DataFrame(data=B, columns=value_l,index=value_l)\n"
      ],
      "metadata": {
        "colab": {
          "base_uri": "https://localhost:8080/",
          "height": 905
        },
        "id": "BPaqZfeRRd3Z",
        "outputId": "b34c80fb-549a-4ead-adf3-7b79c794525a"
      },
      "execution_count": 7,
      "outputs": [
        {
          "output_type": "display_data",
          "data": {
            "text/plain": [
              "<Figure size 640x480 with 1 Axes>"
            ],
            "image/png": "[encoded data removed]"
          },
          "metadata": {}
        },
        {
          "output_type": "stream",
          "name": "stdout",
          "text": [
            "[[1. 0. 0. 0. 0. 0.]\n",
            " [1. 1. 0. 0. 0. 0.]\n",
            " [1. 0. 1. 1. 0. 0.]\n",
            " [1. 0. 1. 1. 0. 0.]\n",
            " [1. 1. 1. 1. 1. 0.]\n",
            " [1. 1. 1. 1. 1. 1.]]\n",
            "[5 1 3 4 2 6]\n"
          ]
        },
        {
          "output_type": "error",
          "ename": "NameError",
          "evalue": "ignored",
          "traceback": [
            "\u001b[0;31m---------------------------------------------------------------------------\u001b[0m",
            "\u001b[0;31mNameError\u001b[0m                                 Traceback (most recent call last)",
            "\u001b[0;32m<ipython-input-7-3fe0a9e0aeeb>\u001b[0m in \u001b[0;36m<cell line: 151>\u001b[0;34m()\u001b[0m\n\u001b[1;32m    163\u001b[0m   \u001b[0mmake_dsm_by_sns\u001b[0m\u001b[0;34m(\u001b[0m\u001b[0mDSM\u001b[0m\u001b[0;34m,\u001b[0m\u001b[0mlabel\u001b[0m\u001b[0;34m)\u001b[0m\u001b[0;34m\u001b[0m\u001b[0;34m\u001b[0m\u001b[0m\n\u001b[1;32m    164\u001b[0m \u001b[0;34m\u001b[0m\u001b[0m\n\u001b[0;32m--> 165\u001b[0;31m   \u001b[0mSequencedDSM\u001b[0m\u001b[0;34m,\u001b[0m \u001b[0mSequencedlabel\u001b[0m \u001b[0;34m=\u001b[0m \u001b[0mSequencing\u001b[0m\u001b[0;34m(\u001b[0m\u001b[0mDSM\u001b[0m\u001b[0;34m,\u001b[0m \u001b[0mlabel\u001b[0m\u001b[0;34m)\u001b[0m\u001b[0;34m\u001b[0m\u001b[0;34m\u001b[0m\u001b[0m\n\u001b[0m\u001b[1;32m    166\u001b[0m   \u001b[0mprint\u001b[0m\u001b[0;34m(\u001b[0m\u001b[0;34m\"Sequenced DSM:\\n\"\u001b[0m\u001b[0;34m,\u001b[0m \u001b[0mSequencedDSM\u001b[0m\u001b[0;34m)\u001b[0m\u001b[0;34m\u001b[0m\u001b[0;34m\u001b[0m\u001b[0m\n\u001b[1;32m    167\u001b[0m   \u001b[0mprint\u001b[0m\u001b[0;34m(\u001b[0m\u001b[0;34m\"Sequenced label:\\n\"\u001b[0m\u001b[0;34m,\u001b[0m \u001b[0mSequencedlabel\u001b[0m\u001b[0;34m)\u001b[0m\u001b[0;34m\u001b[0m\u001b[0;34m\u001b[0m\u001b[0m\n",
            "\u001b[0;32m<ipython-input-7-3fe0a9e0aeeb>\u001b[0m in \u001b[0;36mSequencing\u001b[0;34m(DSM, label)\u001b[0m\n\u001b[1;32m    132\u001b[0m \u001b[0;34m\u001b[0m\u001b[0m\n\u001b[1;32m    133\u001b[0m \u001b[0;34m\u001b[0m\u001b[0m\n\u001b[0;32m--> 134\u001b[0;31m     \u001b[0;32mreturn\u001b[0m \u001b[0mSequencedDSM\u001b[0m\u001b[0;34m,\u001b[0m \u001b[0mSequencedlabel\u001b[0m\u001b[0;34m\u001b[0m\u001b[0;34m\u001b[0m\u001b[0m\n\u001b[0m\u001b[1;32m    135\u001b[0m \u001b[0;34m\u001b[0m\u001b[0m\n\u001b[1;32m    136\u001b[0m \u001b[0;31m# DSM = np.array([[0, 1, 0, 0, 0, 1, 0],\u001b[0m\u001b[0;34m\u001b[0m\u001b[0;34m\u001b[0m\u001b[0m\n",
            "\u001b[0;31mNameError\u001b[0m: name 'Sequencedlabel' is not defined"
          ]
        }
      ]
    },
    {
      "cell_type": "code",
      "source": [
        "# !streamlit run --server.port 80 /content/drive/MyDrive/DSM/my_script.py >/dev/null &"
      ],
      "metadata": {
        "id": "PKtBGaowIUUc"
      },
      "execution_count": null,
      "outputs": []
    },
    {
      "cell_type": "code",
      "source": [
        "%%writefile /content/drive/MyDrive/DSM/app.py\n",
        "import sys\n",
        "sys.path.append('/content/drive/MyDrive/DSM')\n",
        "import streamlit as st\n",
        "import my_module\n",
        "txt=my_module.test()\n",
        "st.title(txt)\n",
        "\n",
        "# simple_streamlit_app.py\n",
        "\n",
        "import numpy as np\n",
        "import pandas as pd\n",
        "import streamlit as st\n",
        "df = pd.DataFrame( np.random.randn(10, 4), columns=['a2', 'b2', 'c','d'] )\n",
        "st.title(\"Simple Streamlit App\")\n",
        " \n",
        "st.dataframe(df) \n",
        "st.write(\"📈　Line-Chart\")\n",
        "st.line_chart(df)\n",
        " \n",
        "if st.checkbox('👓 Show DataFrame (with highlight_max)'):\n",
        " st.table(df.style.highlight_max(axis=0))\n"
      ],
      "metadata": {
        "colab": {
          "base_uri": "https://localhost:8080/"
        },
        "id": "R7CTa1gbaQQb",
        "outputId": "26c5286b-e773-4cbe-c7c4-253df835630c"
      },
      "execution_count": null,
      "outputs": [
        {
          "output_type": "stream",
          "name": "stdout",
          "text": [
            "Overwriting /content/drive/MyDrive/DSM/app.py\n"
          ]
        }
      ]
    },
    {
      "cell_type": "code",
      "source": [
        "import numpy as np\n",
        "\n",
        "def toReachableMatrix(DSM):\n",
        "    n = DSM.shape[0]\n",
        "    I = np.identity(n, dtype=int)\n",
        "    R1 = np.zeros((n,n), dtype=int)\n",
        "\n",
        "    for i in range(1, n+1):\n",
        "        R1_new = (DSM + I)**i\n",
        "        R1_new[R1_new > 1] = 1\n",
        "        if (R1_new == R1).all():\n",
        "            break\n",
        "        R1 = R1_new\n",
        "    \n",
        "    return R1\n",
        "\n",
        "DSM = np.array([[0, 0, 0, 0, 1, 0],\n",
        "                [1, 0, 1, 1, 1, 0],\n",
        "                [0, 0, 0, 1, 1, 0],\n",
        "                [0, 0, 1, 0, 0, 0],\n",
        "                [0, 0, 0, 0, 0, 0],\n",
        "                [0, 1, 0, 0, 1, 0]])\n",
        "\n",
        "ReachableMatrix = toReachableMatrix(DSM)\n",
        "\n",
        "print(ReachableMatrix)\n"
      ],
      "metadata": {
        "colab": {
          "base_uri": "https://localhost:8080/"
        },
        "id": "nqDiokm-8VHy",
        "outputId": "dc38bcfe-03ce-4de1-d76b-aa8aa1ff3a6c"
      },
      "execution_count": 4,
      "outputs": [
        {
          "output_type": "stream",
          "name": "stdout",
          "text": [
            "[[1 0 0 0 1 0]\n",
            " [1 1 1 1 1 0]\n",
            " [0 0 1 1 1 0]\n",
            " [0 0 1 1 0 0]\n",
            " [0 0 0 0 1 0]\n",
            " [0 1 0 0 1 1]]\n"
          ]
        }
      ]
    },
    {
      "cell_type": "code",
      "source": [
        "from numpy import zeros, ones, eye\n",
        "from numpy.linalg import matrix_power\n",
        "import numpy as np\n",
        "\n",
        "def calcReachableMatrix(DSM):\n",
        "    I = eye(DSM.shape[0]) # 単位行列の生成\n",
        "    calcmax = 1000\n",
        "    \n",
        "    for i in range(1, calcmax+1):\n",
        "        R1 = matrix_power((DSM + I), i)\n",
        "        Rindex = np.where(R1 > 1)\n",
        "        R1[Rindex] = ones(len(Rindex[0])) # ブール演算のかわり\n",
        "\n",
        "        R2 = matrix_power((DSM + I), i+1)\n",
        "        Rindex = np.where(R2 > 1)\n",
        "        R2[Rindex] = ones(len(Rindex[0])) # ブール演算のかわり\n",
        "\n",
        "        if np.array_equal(R1, R2):\n",
        "            break\n",
        "            \n",
        "    return R1\n",
        "\n",
        "DSM = np.array([[0, 0, 0, 0, 1, 0], [1, 0, 1, 1, 1, 0], [0, 0, 0, 1, 1, 0], \n",
        "                [0, 0, 1, 0, 0, 0], [0, 0, 0, 0, 0, 0], [0, 1, 0, 0, 1, 0]]) # DSMの定義\n",
        "\n",
        "Reachablematrix = calcReachableMatrix(DSM)\n",
        "print(Reachablematrix)\n"
      ],
      "metadata": {
        "colab": {
          "base_uri": "https://localhost:8080/"
        },
        "id": "rc9LxZSTvxDq",
        "outputId": "58886496-6524-4637-c5f0-6f84eccb5136"
      },
      "execution_count": 6,
      "outputs": [
        {
          "output_type": "stream",
          "name": "stdout",
          "text": [
            "[[1. 0. 0. 0. 1. 0.]\n",
            " [1. 1. 1. 1. 1. 0.]\n",
            " [0. 0. 1. 1. 1. 0.]\n",
            " [0. 0. 1. 1. 1. 0.]\n",
            " [0. 0. 0. 0. 1. 0.]\n",
            " [1. 1. 1. 1. 1. 1.]]\n"
          ]
        }
      ]
    },
    {
      "cell_type": "code",
      "source": [
        "# from google.colab import files\n",
        "# files.view(\"/content/drive/MyDrive\")\n",
        "# files.view(\"my_script.py\")"
      ],
      "metadata": {
        "id": "mulfyKI_Qqpx"
      },
      "execution_count": null,
      "outputs": []
    },
    {
      "cell_type": "code",
      "source": [
        "# !streamlit run /content/drive/MyDrive/DSM/my_script.py & sleep 3 && npx localtunnel --port 8501\n",
        "!streamlit run /content/drive/MyDrive/DSM/app.py & sleep 3 && npx localtunnel --port 8501"
      ],
      "metadata": {
        "id": "JXg7CUxnSevQ",
        "colab": {
          "base_uri": "https://localhost:8080/"
        },
        "outputId": "ac5765cc-660f-4a27-b541-237598d882f4"
      },
      "execution_count": null,
      "outputs": [
        {
          "output_type": "stream",
          "name": "stdout",
          "text": [
            "\n",
            "Collecting usage statistics. To deactivate, set browser.gatherUsageStats to False.\n",
            "\u001b[0m\n",
            "\u001b[0m\n",
            "\u001b[34m\u001b[1m  You can now view your Streamlit app in your browser.\u001b[0m\n",
            "\u001b[0m\n",
            "\u001b[34m  Network URL: \u001b[0m\u001b[1mhttp://172.28.0.12:8501\u001b[0m\n",
            "\u001b[34m  External URL: \u001b[0m\u001b[1mhttp://34.172.69.88:8501\u001b[0m\n",
            "\u001b[0m\n",
            "\u001b[K\u001b[?25hnpx: installed 22 in 2.286s\n",
            "your url is: https://young-towns-lie-34-172-69-88.loca.lt\n",
            "\u001b[34m  Stopping...\u001b[0m\n",
            "^C\n"
          ]
        }
      ]
    }
  ]
}