{
  "nbformat": 4,
  "nbformat_minor": 0,
  "metadata": {
    "colab": {
      "provenance": [],
      "authorship_tag": "ABX9TyPog69k+159Kk4mk4QxwOtu",
      "include_colab_link": true
    },
    "kernelspec": {
      "name": "python3",
      "display_name": "Python 3"
    },
    "language_info": {
      "name": "python"
    }
  },
  "cells": [
    {
      "cell_type": "markdown",
      "metadata": {
        "id": "view-in-github",
        "colab_type": "text"
      },
      "source": [
        "<a href=\"https://colab.research.google.com/github/kapibara3chi/Make_Design_Structure_Matrix/blob/main/app_py.ipynb\" target=\"_parent\"><img src=\"https://colab.research.google.com/assets/colab-badge.svg\" alt=\"Open In Colab\"/></a>"
      ]
    },
    {
      "cell_type": "code",
      "execution_count": null,
      "metadata": {
        "id": "PfhQ44uqPJ8J"
      },
      "outputs": [],
      "source": [
        "# simple_streamlit_app.py\n",
        "import numpy as np\n",
        "import pandas as pd\n",
        "import streamlit as st\n",
        " \n",
        "df = pd.DataFrame( np.random.randn(10, 4), columns=['a', 'b', 'c','d'] )\n",
        " \n",
        "st.title(\"Simple Streamlit App\")\n",
        " \n",
        "st.write(\"📈　Line-Chart\")\n",
        "st.line_chart(df)\n",
        " \n",
        "if st.checkbox('👓 Show DataFrame (with highlight_max)'):\n",
        " st.table(df.style.highlight_max(axis=0))\n"
      ]
    }
  ]
}